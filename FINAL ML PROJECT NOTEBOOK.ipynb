{
 "cells": [
  {
   "cell_type": "markdown",
   "id": "19e6510a",
   "metadata": {},
   "source": [
    "# FIND THE NEXT BEST OFFER FOR CUSTOMERS : PREDICTIVE ANALYTICS "
   ]
  },
  {
   "cell_type": "markdown",
   "id": "4fd62604",
   "metadata": {},
   "source": [
    "## IMPORTING LIBRARIRIES"
   ]
  },
  {
   "cell_type": "code",
   "execution_count": 1,
   "id": "e53af90a",
   "metadata": {},
   "outputs": [],
   "source": [
    "import pandas as pd\n",
    "import numpy as np\n",
    "from numpy import mean\n",
    "from numpy import std\n",
    "from numpy.random import randn\n",
    "from numpy.random import seed\n",
    "import matplotlib.pyplot as plt\n",
    "import seaborn as sns\n",
    "from sklearn.preprocessing import StandardScaler\n",
    "from numpy.random import randn\n",
    "from numpy.random import seed\n",
    "import matplotlib.pyplot as plt\n"
   ]
  },
  {
   "cell_type": "markdown",
   "id": "bef19349",
   "metadata": {},
   "source": [
    "### READING THE DATASET"
   ]
  },
  {
   "cell_type": "code",
   "execution_count": 2,
   "id": "2a175f92",
   "metadata": {},
   "outputs": [],
   "source": [
    "data=pd.read_excel(\"C:/Users/Student/Desktop/ML/data.xlsx\")"
   ]
  },
  {
   "cell_type": "markdown",
   "id": "603888b7",
   "metadata": {},
   "source": [
    "## DATA CLEANING AND PREPARATION"
   ]
  },
  {
   "cell_type": "code",
   "execution_count": 3,
   "id": "17af73f4",
   "metadata": {
    "scrolled": true
   },
   "outputs": [
    {
     "data": {
      "text/html": [
       "<div>\n",
       "<style scoped>\n",
       "    .dataframe tbody tr th:only-of-type {\n",
       "        vertical-align: middle;\n",
       "    }\n",
       "\n",
       "    .dataframe tbody tr th {\n",
       "        vertical-align: top;\n",
       "    }\n",
       "\n",
       "    .dataframe thead th {\n",
       "        text-align: right;\n",
       "    }\n",
       "</style>\n",
       "<table border=\"1\" class=\"dataframe\">\n",
       "  <thead>\n",
       "    <tr style=\"text-align: right;\">\n",
       "      <th></th>\n",
       "      <th>category</th>\n",
       "      <th>subcategory</th>\n",
       "      <th>name</th>\n",
       "      <th>current_price</th>\n",
       "      <th>raw_price</th>\n",
       "      <th>currency</th>\n",
       "      <th>discount</th>\n",
       "      <th>Quantity</th>\n",
       "      <th>Order Price</th>\n",
       "      <th>likes_count</th>\n",
       "      <th>...</th>\n",
       "      <th>image_url</th>\n",
       "      <th>url</th>\n",
       "      <th>productId</th>\n",
       "      <th>userId</th>\n",
       "      <th>ratings</th>\n",
       "      <th>Income</th>\n",
       "      <th>SpendingScore</th>\n",
       "      <th>Gender</th>\n",
       "      <th>Age</th>\n",
       "      <th>Timestamp</th>\n",
       "    </tr>\n",
       "  </thead>\n",
       "  <tbody>\n",
       "    <tr>\n",
       "      <th>0</th>\n",
       "      <td>accessories</td>\n",
       "      <td>Bucket Hat</td>\n",
       "      <td>Chapeau seau pliable respirant en polyester en...</td>\n",
       "      <td>9.46</td>\n",
       "      <td>22.41</td>\n",
       "      <td>USD</td>\n",
       "      <td>58</td>\n",
       "      <td>3</td>\n",
       "      <td>28.38</td>\n",
       "      <td>20</td>\n",
       "      <td>...</td>\n",
       "      <td>https://imgaz1.chiccdn.com/thumb/view/oaupload...</td>\n",
       "      <td>https://fr.newchic.com/bucket-hat-12173/p-1322...</td>\n",
       "      <td>1322673</td>\n",
       "      <td>A2CX7LUOHB2NDG</td>\n",
       "      <td>2</td>\n",
       "      <td>34</td>\n",
       "      <td>81</td>\n",
       "      <td>F</td>\n",
       "      <td>32</td>\n",
       "      <td>1341100800</td>\n",
       "    </tr>\n",
       "    <tr>\n",
       "      <th>1</th>\n",
       "      <td>beauty</td>\n",
       "      <td>Coffrets Maquillage</td>\n",
       "      <td>7Pcs ensemble de maquillage de rouge Ã  lÃ¨vres</td>\n",
       "      <td>27.99</td>\n",
       "      <td>55.99</td>\n",
       "      <td>USD</td>\n",
       "      <td>50</td>\n",
       "      <td>2</td>\n",
       "      <td>55.98</td>\n",
       "      <td>251</td>\n",
       "      <td>...</td>\n",
       "      <td>https://imgaz1.chiccdn.com/thumb/view/oaupload...</td>\n",
       "      <td>https://fr.newchic.com/hengfang-makeup-set-649...</td>\n",
       "      <td>1331649</td>\n",
       "      <td>A2NWSAGRHCP8N5</td>\n",
       "      <td>1</td>\n",
       "      <td>76</td>\n",
       "      <td>5</td>\n",
       "      <td>F</td>\n",
       "      <td>26</td>\n",
       "      <td>1367193600</td>\n",
       "    </tr>\n",
       "    <tr>\n",
       "      <th>2</th>\n",
       "      <td>women</td>\n",
       "      <td>Robes vintage</td>\n",
       "      <td>Robe vintage en velours cÃ´telÃ© unie</td>\n",
       "      <td>42.99</td>\n",
       "      <td>81.99</td>\n",
       "      <td>USD</td>\n",
       "      <td>48</td>\n",
       "      <td>5</td>\n",
       "      <td>214.95</td>\n",
       "      <td>235</td>\n",
       "      <td>...</td>\n",
       "      <td>https://imgaz1.chiccdn.com/thumb/view/oaupload...</td>\n",
       "      <td>https://fr.newchic.com/vintage-dresses-3664/p-...</td>\n",
       "      <td>1385587</td>\n",
       "      <td>A2WNBOD3WNDNKT</td>\n",
       "      <td>2</td>\n",
       "      <td>38</td>\n",
       "      <td>68</td>\n",
       "      <td>M</td>\n",
       "      <td>44</td>\n",
       "      <td>1374451200</td>\n",
       "    </tr>\n",
       "    <tr>\n",
       "      <th>3</th>\n",
       "      <td>kids</td>\n",
       "      <td>Robes</td>\n",
       "      <td>Robe d'allaitement de maternitÃ© fleurie sans ...</td>\n",
       "      <td>22.06</td>\n",
       "      <td>55.57</td>\n",
       "      <td>USD</td>\n",
       "      <td>60</td>\n",
       "      <td>1</td>\n",
       "      <td>22.06</td>\n",
       "      <td>6</td>\n",
       "      <td>...</td>\n",
       "      <td>https://imgaz1.chiccdn.com/thumb/view/oaupload...</td>\n",
       "      <td>https://fr.newchic.com/maternity-dresses-4706/...</td>\n",
       "      <td>1662745</td>\n",
       "      <td>A1GI0U4ZRJA8WN</td>\n",
       "      <td>2</td>\n",
       "      <td>87</td>\n",
       "      <td>64</td>\n",
       "      <td>M</td>\n",
       "      <td>32</td>\n",
       "      <td>1334707200</td>\n",
       "    </tr>\n",
       "    <tr>\n",
       "      <th>4</th>\n",
       "      <td>shoes</td>\n",
       "      <td>Baskets</td>\n",
       "      <td>Sneakers de randonnÃ©e respirants en maille de...</td>\n",
       "      <td>34.64</td>\n",
       "      <td>67.27</td>\n",
       "      <td>USD</td>\n",
       "      <td>49</td>\n",
       "      <td>2</td>\n",
       "      <td>69.28</td>\n",
       "      <td>758</td>\n",
       "      <td>...</td>\n",
       "      <td>https://imgaz1.chiccdn.com/thumb/view/oaupload...</td>\n",
       "      <td>https://fr.newchic.com/sneakersandathletic-362...</td>\n",
       "      <td>1300576</td>\n",
       "      <td>A1QGNMC6O1VW39</td>\n",
       "      <td>1</td>\n",
       "      <td>20</td>\n",
       "      <td>81</td>\n",
       "      <td>F</td>\n",
       "      <td>29</td>\n",
       "      <td>1397433600</td>\n",
       "    </tr>\n",
       "  </tbody>\n",
       "</table>\n",
       "<p>5 rows × 24 columns</p>\n",
       "</div>"
      ],
      "text/plain": [
       "      category          subcategory  \\\n",
       "0  accessories           Bucket Hat   \n",
       "1       beauty  Coffrets Maquillage   \n",
       "2        women        Robes vintage   \n",
       "3         kids                Robes   \n",
       "4        shoes              Baskets   \n",
       "\n",
       "                                                name  current_price  \\\n",
       "0  Chapeau seau pliable respirant en polyester en...           9.46   \n",
       "1    7Pcs ensemble de maquillage de rouge Ã  lÃ¨vres          27.99   \n",
       "2              Robe vintage en velours cÃ´telÃ© unie          42.99   \n",
       "3  Robe d'allaitement de maternitÃ© fleurie sans ...          22.06   \n",
       "4  Sneakers de randonnÃ©e respirants en maille de...          34.64   \n",
       "\n",
       "   raw_price currency  discount  Quantity  Order Price  likes_count  ...  \\\n",
       "0      22.41      USD        58         3        28.38           20  ...   \n",
       "1      55.99      USD        50         2        55.98          251  ...   \n",
       "2      81.99      USD        48         5       214.95          235  ...   \n",
       "3      55.57      USD        60         1        22.06            6  ...   \n",
       "4      67.27      USD        49         2        69.28          758  ...   \n",
       "\n",
       "                                           image_url  \\\n",
       "0  https://imgaz1.chiccdn.com/thumb/view/oaupload...   \n",
       "1  https://imgaz1.chiccdn.com/thumb/view/oaupload...   \n",
       "2  https://imgaz1.chiccdn.com/thumb/view/oaupload...   \n",
       "3  https://imgaz1.chiccdn.com/thumb/view/oaupload...   \n",
       "4  https://imgaz1.chiccdn.com/thumb/view/oaupload...   \n",
       "\n",
       "                                                 url productId  \\\n",
       "0  https://fr.newchic.com/bucket-hat-12173/p-1322...   1322673   \n",
       "1  https://fr.newchic.com/hengfang-makeup-set-649...   1331649   \n",
       "2  https://fr.newchic.com/vintage-dresses-3664/p-...   1385587   \n",
       "3  https://fr.newchic.com/maternity-dresses-4706/...   1662745   \n",
       "4  https://fr.newchic.com/sneakersandathletic-362...   1300576   \n",
       "\n",
       "           userId ratings Income   SpendingScore Gender  Age   Timestamp  \n",
       "0  A2CX7LUOHB2NDG       2      34             81      F   32  1341100800  \n",
       "1  A2NWSAGRHCP8N5       1      76              5      F   26  1367193600  \n",
       "2  A2WNBOD3WNDNKT       2      38             68      M   44  1374451200  \n",
       "3  A1GI0U4ZRJA8WN       2      87             64      M   32  1334707200  \n",
       "4  A1QGNMC6O1VW39       1      20             81      F   29  1397433600  \n",
       "\n",
       "[5 rows x 24 columns]"
      ]
     },
     "execution_count": 3,
     "metadata": {},
     "output_type": "execute_result"
    }
   ],
   "source": [
    "data.head(5)"
   ]
  },
  {
   "cell_type": "code",
   "execution_count": 4,
   "id": "2b82e9fd",
   "metadata": {},
   "outputs": [
    {
     "data": {
      "text/plain": [
       "(74999, 24)"
      ]
     },
     "execution_count": 4,
     "metadata": {},
     "output_type": "execute_result"
    }
   ],
   "source": [
    "data.shape"
   ]
  },
  {
   "cell_type": "markdown",
   "id": "2cc1c954",
   "metadata": {},
   "source": [
    "### CHECK FOR NULL VALUES"
   ]
  },
  {
   "cell_type": "code",
   "execution_count": 5,
   "id": "f236909f",
   "metadata": {},
   "outputs": [
    {
     "data": {
      "text/html": [
       "<div>\n",
       "<style scoped>\n",
       "    .dataframe tbody tr th:only-of-type {\n",
       "        vertical-align: middle;\n",
       "    }\n",
       "\n",
       "    .dataframe tbody tr th {\n",
       "        vertical-align: top;\n",
       "    }\n",
       "\n",
       "    .dataframe thead th {\n",
       "        text-align: right;\n",
       "    }\n",
       "</style>\n",
       "<table border=\"1\" class=\"dataframe\">\n",
       "  <thead>\n",
       "    <tr style=\"text-align: right;\">\n",
       "      <th></th>\n",
       "      <th>category</th>\n",
       "      <th>subcategory</th>\n",
       "      <th>name</th>\n",
       "      <th>current_price</th>\n",
       "      <th>raw_price</th>\n",
       "      <th>currency</th>\n",
       "      <th>discount</th>\n",
       "      <th>Quantity</th>\n",
       "      <th>Order Price</th>\n",
       "      <th>likes_count</th>\n",
       "      <th>...</th>\n",
       "      <th>image_url</th>\n",
       "      <th>url</th>\n",
       "      <th>productId</th>\n",
       "      <th>userId</th>\n",
       "      <th>ratings</th>\n",
       "      <th>Income</th>\n",
       "      <th>SpendingScore</th>\n",
       "      <th>Gender</th>\n",
       "      <th>Age</th>\n",
       "      <th>Timestamp</th>\n",
       "    </tr>\n",
       "  </thead>\n",
       "  <tbody>\n",
       "    <tr>\n",
       "      <th>0</th>\n",
       "      <td>False</td>\n",
       "      <td>False</td>\n",
       "      <td>False</td>\n",
       "      <td>False</td>\n",
       "      <td>False</td>\n",
       "      <td>False</td>\n",
       "      <td>False</td>\n",
       "      <td>False</td>\n",
       "      <td>False</td>\n",
       "      <td>False</td>\n",
       "      <td>...</td>\n",
       "      <td>False</td>\n",
       "      <td>False</td>\n",
       "      <td>False</td>\n",
       "      <td>False</td>\n",
       "      <td>False</td>\n",
       "      <td>False</td>\n",
       "      <td>False</td>\n",
       "      <td>False</td>\n",
       "      <td>False</td>\n",
       "      <td>False</td>\n",
       "    </tr>\n",
       "    <tr>\n",
       "      <th>1</th>\n",
       "      <td>False</td>\n",
       "      <td>False</td>\n",
       "      <td>False</td>\n",
       "      <td>False</td>\n",
       "      <td>False</td>\n",
       "      <td>False</td>\n",
       "      <td>False</td>\n",
       "      <td>False</td>\n",
       "      <td>False</td>\n",
       "      <td>False</td>\n",
       "      <td>...</td>\n",
       "      <td>False</td>\n",
       "      <td>False</td>\n",
       "      <td>False</td>\n",
       "      <td>False</td>\n",
       "      <td>False</td>\n",
       "      <td>False</td>\n",
       "      <td>False</td>\n",
       "      <td>False</td>\n",
       "      <td>False</td>\n",
       "      <td>False</td>\n",
       "    </tr>\n",
       "    <tr>\n",
       "      <th>2</th>\n",
       "      <td>False</td>\n",
       "      <td>False</td>\n",
       "      <td>False</td>\n",
       "      <td>False</td>\n",
       "      <td>False</td>\n",
       "      <td>False</td>\n",
       "      <td>False</td>\n",
       "      <td>False</td>\n",
       "      <td>False</td>\n",
       "      <td>False</td>\n",
       "      <td>...</td>\n",
       "      <td>False</td>\n",
       "      <td>False</td>\n",
       "      <td>False</td>\n",
       "      <td>False</td>\n",
       "      <td>False</td>\n",
       "      <td>False</td>\n",
       "      <td>False</td>\n",
       "      <td>False</td>\n",
       "      <td>False</td>\n",
       "      <td>False</td>\n",
       "    </tr>\n",
       "    <tr>\n",
       "      <th>3</th>\n",
       "      <td>False</td>\n",
       "      <td>False</td>\n",
       "      <td>False</td>\n",
       "      <td>False</td>\n",
       "      <td>False</td>\n",
       "      <td>False</td>\n",
       "      <td>False</td>\n",
       "      <td>False</td>\n",
       "      <td>False</td>\n",
       "      <td>False</td>\n",
       "      <td>...</td>\n",
       "      <td>False</td>\n",
       "      <td>False</td>\n",
       "      <td>False</td>\n",
       "      <td>False</td>\n",
       "      <td>False</td>\n",
       "      <td>False</td>\n",
       "      <td>False</td>\n",
       "      <td>False</td>\n",
       "      <td>False</td>\n",
       "      <td>False</td>\n",
       "    </tr>\n",
       "    <tr>\n",
       "      <th>4</th>\n",
       "      <td>False</td>\n",
       "      <td>False</td>\n",
       "      <td>False</td>\n",
       "      <td>False</td>\n",
       "      <td>False</td>\n",
       "      <td>False</td>\n",
       "      <td>False</td>\n",
       "      <td>False</td>\n",
       "      <td>False</td>\n",
       "      <td>False</td>\n",
       "      <td>...</td>\n",
       "      <td>False</td>\n",
       "      <td>False</td>\n",
       "      <td>False</td>\n",
       "      <td>False</td>\n",
       "      <td>False</td>\n",
       "      <td>False</td>\n",
       "      <td>False</td>\n",
       "      <td>False</td>\n",
       "      <td>False</td>\n",
       "      <td>False</td>\n",
       "    </tr>\n",
       "    <tr>\n",
       "      <th>...</th>\n",
       "      <td>...</td>\n",
       "      <td>...</td>\n",
       "      <td>...</td>\n",
       "      <td>...</td>\n",
       "      <td>...</td>\n",
       "      <td>...</td>\n",
       "      <td>...</td>\n",
       "      <td>...</td>\n",
       "      <td>...</td>\n",
       "      <td>...</td>\n",
       "      <td>...</td>\n",
       "      <td>...</td>\n",
       "      <td>...</td>\n",
       "      <td>...</td>\n",
       "      <td>...</td>\n",
       "      <td>...</td>\n",
       "      <td>...</td>\n",
       "      <td>...</td>\n",
       "      <td>...</td>\n",
       "      <td>...</td>\n",
       "      <td>...</td>\n",
       "    </tr>\n",
       "    <tr>\n",
       "      <th>74994</th>\n",
       "      <td>False</td>\n",
       "      <td>False</td>\n",
       "      <td>False</td>\n",
       "      <td>False</td>\n",
       "      <td>False</td>\n",
       "      <td>False</td>\n",
       "      <td>False</td>\n",
       "      <td>False</td>\n",
       "      <td>False</td>\n",
       "      <td>False</td>\n",
       "      <td>...</td>\n",
       "      <td>False</td>\n",
       "      <td>False</td>\n",
       "      <td>False</td>\n",
       "      <td>False</td>\n",
       "      <td>False</td>\n",
       "      <td>False</td>\n",
       "      <td>False</td>\n",
       "      <td>False</td>\n",
       "      <td>False</td>\n",
       "      <td>False</td>\n",
       "    </tr>\n",
       "    <tr>\n",
       "      <th>74995</th>\n",
       "      <td>False</td>\n",
       "      <td>False</td>\n",
       "      <td>False</td>\n",
       "      <td>False</td>\n",
       "      <td>False</td>\n",
       "      <td>False</td>\n",
       "      <td>False</td>\n",
       "      <td>False</td>\n",
       "      <td>False</td>\n",
       "      <td>False</td>\n",
       "      <td>...</td>\n",
       "      <td>False</td>\n",
       "      <td>False</td>\n",
       "      <td>False</td>\n",
       "      <td>False</td>\n",
       "      <td>False</td>\n",
       "      <td>False</td>\n",
       "      <td>False</td>\n",
       "      <td>False</td>\n",
       "      <td>False</td>\n",
       "      <td>False</td>\n",
       "    </tr>\n",
       "    <tr>\n",
       "      <th>74996</th>\n",
       "      <td>False</td>\n",
       "      <td>False</td>\n",
       "      <td>False</td>\n",
       "      <td>False</td>\n",
       "      <td>False</td>\n",
       "      <td>False</td>\n",
       "      <td>False</td>\n",
       "      <td>False</td>\n",
       "      <td>False</td>\n",
       "      <td>False</td>\n",
       "      <td>...</td>\n",
       "      <td>False</td>\n",
       "      <td>False</td>\n",
       "      <td>False</td>\n",
       "      <td>False</td>\n",
       "      <td>False</td>\n",
       "      <td>False</td>\n",
       "      <td>False</td>\n",
       "      <td>False</td>\n",
       "      <td>False</td>\n",
       "      <td>False</td>\n",
       "    </tr>\n",
       "    <tr>\n",
       "      <th>74997</th>\n",
       "      <td>False</td>\n",
       "      <td>False</td>\n",
       "      <td>False</td>\n",
       "      <td>False</td>\n",
       "      <td>False</td>\n",
       "      <td>False</td>\n",
       "      <td>False</td>\n",
       "      <td>False</td>\n",
       "      <td>False</td>\n",
       "      <td>False</td>\n",
       "      <td>...</td>\n",
       "      <td>False</td>\n",
       "      <td>False</td>\n",
       "      <td>False</td>\n",
       "      <td>False</td>\n",
       "      <td>False</td>\n",
       "      <td>False</td>\n",
       "      <td>False</td>\n",
       "      <td>False</td>\n",
       "      <td>False</td>\n",
       "      <td>False</td>\n",
       "    </tr>\n",
       "    <tr>\n",
       "      <th>74998</th>\n",
       "      <td>False</td>\n",
       "      <td>False</td>\n",
       "      <td>False</td>\n",
       "      <td>False</td>\n",
       "      <td>False</td>\n",
       "      <td>False</td>\n",
       "      <td>False</td>\n",
       "      <td>False</td>\n",
       "      <td>False</td>\n",
       "      <td>False</td>\n",
       "      <td>...</td>\n",
       "      <td>False</td>\n",
       "      <td>False</td>\n",
       "      <td>False</td>\n",
       "      <td>False</td>\n",
       "      <td>False</td>\n",
       "      <td>False</td>\n",
       "      <td>False</td>\n",
       "      <td>False</td>\n",
       "      <td>False</td>\n",
       "      <td>False</td>\n",
       "    </tr>\n",
       "  </tbody>\n",
       "</table>\n",
       "<p>74999 rows × 24 columns</p>\n",
       "</div>"
      ],
      "text/plain": [
       "       category  subcategory   name  current_price  raw_price  currency  \\\n",
       "0         False        False  False          False      False     False   \n",
       "1         False        False  False          False      False     False   \n",
       "2         False        False  False          False      False     False   \n",
       "3         False        False  False          False      False     False   \n",
       "4         False        False  False          False      False     False   \n",
       "...         ...          ...    ...            ...        ...       ...   \n",
       "74994     False        False  False          False      False     False   \n",
       "74995     False        False  False          False      False     False   \n",
       "74996     False        False  False          False      False     False   \n",
       "74997     False        False  False          False      False     False   \n",
       "74998     False        False  False          False      False     False   \n",
       "\n",
       "       discount  Quantity  Order Price  likes_count  ...  image_url    url  \\\n",
       "0         False     False        False        False  ...      False  False   \n",
       "1         False     False        False        False  ...      False  False   \n",
       "2         False     False        False        False  ...      False  False   \n",
       "3         False     False        False        False  ...      False  False   \n",
       "4         False     False        False        False  ...      False  False   \n",
       "...         ...       ...          ...          ...  ...        ...    ...   \n",
       "74994     False     False        False        False  ...      False  False   \n",
       "74995     False     False        False        False  ...      False  False   \n",
       "74996     False     False        False        False  ...      False  False   \n",
       "74997     False     False        False        False  ...      False  False   \n",
       "74998     False     False        False        False  ...      False  False   \n",
       "\n",
       "       productId  userId  ratings  Income   SpendingScore  Gender    Age  \\\n",
       "0          False   False    False    False          False   False  False   \n",
       "1          False   False    False    False          False   False  False   \n",
       "2          False   False    False    False          False   False  False   \n",
       "3          False   False    False    False          False   False  False   \n",
       "4          False   False    False    False          False   False  False   \n",
       "...          ...     ...      ...      ...            ...     ...    ...   \n",
       "74994      False   False    False    False          False   False  False   \n",
       "74995      False   False    False    False          False   False  False   \n",
       "74996      False   False    False    False          False   False  False   \n",
       "74997      False   False    False    False          False   False  False   \n",
       "74998      False   False    False    False          False   False  False   \n",
       "\n",
       "       Timestamp  \n",
       "0          False  \n",
       "1          False  \n",
       "2          False  \n",
       "3          False  \n",
       "4          False  \n",
       "...          ...  \n",
       "74994      False  \n",
       "74995      False  \n",
       "74996      False  \n",
       "74997      False  \n",
       "74998      False  \n",
       "\n",
       "[74999 rows x 24 columns]"
      ]
     },
     "execution_count": 5,
     "metadata": {},
     "output_type": "execute_result"
    }
   ],
   "source": [
    "data.isnull()"
   ]
  },
  {
   "cell_type": "code",
   "execution_count": 6,
   "id": "b38b931a",
   "metadata": {},
   "outputs": [
    {
     "data": {
      "text/plain": [
       "category             0\n",
       "subcategory          0\n",
       "name                 0\n",
       "current_price        0\n",
       "raw_price            0\n",
       "currency             0\n",
       "discount             0\n",
       "Quantity             0\n",
       "Order Price          0\n",
       "likes_count          0\n",
       "is_new               0\n",
       "brand            60838\n",
       "brand_url        64659\n",
       "codCountry        9110\n",
       "image_url            1\n",
       "url                  0\n",
       "productId            0\n",
       "userId               0\n",
       "ratings              0\n",
       "Income               0\n",
       "SpendingScore        0\n",
       "Gender               0\n",
       "Age                  0\n",
       "Timestamp            0\n",
       "dtype: int64"
      ]
     },
     "execution_count": 6,
     "metadata": {},
     "output_type": "execute_result"
    }
   ],
   "source": [
    "data.isnull().sum()"
   ]
  },
  {
   "cell_type": "markdown",
   "id": "1fb8da15",
   "metadata": {},
   "source": [
    "### REMOVE COLUMNS WITH NULL VALUES"
   ]
  },
  {
   "cell_type": "code",
   "execution_count": 7,
   "id": "9c1b7f6c",
   "metadata": {},
   "outputs": [],
   "source": [
    "data.drop(\"brand\",axis=1,inplace=True)\n",
    "data.drop(\"brand_url\",axis=1,inplace=True)\n",
    "data.drop(\"codCountry\",axis=1,inplace=True)\n",
    "data.drop(\"image_url\",axis=1,inplace=True)"
   ]
  },
  {
   "cell_type": "code",
   "execution_count": 8,
   "id": "2d79500b",
   "metadata": {},
   "outputs": [
    {
     "data": {
      "text/plain": [
       "category         0\n",
       "subcategory      0\n",
       "name             0\n",
       "current_price    0\n",
       "raw_price        0\n",
       "currency         0\n",
       "discount         0\n",
       "Quantity         0\n",
       "Order Price      0\n",
       "likes_count      0\n",
       "is_new           0\n",
       "url              0\n",
       "productId        0\n",
       "userId           0\n",
       "ratings          0\n",
       "Income           0\n",
       "SpendingScore    0\n",
       "Gender           0\n",
       "Age              0\n",
       "Timestamp        0\n",
       "dtype: int64"
      ]
     },
     "execution_count": 8,
     "metadata": {},
     "output_type": "execute_result"
    }
   ],
   "source": [
    "data.isnull().sum()"
   ]
  },
  {
   "cell_type": "markdown",
   "id": "0c0d8512",
   "metadata": {},
   "source": [
    "### REMOVE ALL UNNECESSERRY FEATURES FROM THE DATASET"
   ]
  },
  {
   "cell_type": "code",
   "execution_count": 9,
   "id": "ca27f498",
   "metadata": {},
   "outputs": [],
   "source": [
    "data.drop(\"subcategory\",axis=1,inplace=True)\n",
    "data.drop(\"name\",axis=1,inplace=True)\n",
    "data.drop(\"currency\",axis=1,inplace=True)\n",
    "data.drop(\"url\",axis=1,inplace=True)\n",
    "data.drop(\"Timestamp\",axis=1,inplace=True)\n",
    "\n"
   ]
  },
  {
   "cell_type": "markdown",
   "id": "4f0ca378",
   "metadata": {},
   "source": [
    "### ELIMINATE ROWS WITH NA VALUES\n"
   ]
  },
  {
   "cell_type": "code",
   "execution_count": 10,
   "id": "d6dac34b",
   "metadata": {},
   "outputs": [],
   "source": [
    "data = data.dropna(axis=0, subset=['category'])\n",
    "data = data.dropna(axis=0, subset=['current_price'])\n",
    "data = data.dropna(axis=0, subset=['raw_price'])\n",
    "data = data.dropna(axis=0, subset=['discount'])\n",
    "data = data.dropna(axis=0, subset=['Quantity'])\n",
    "data = data.dropna(axis=0, subset=['Order Price'])\n",
    "data = data.dropna(axis=0, subset=['likes_count'])\n",
    "data = data.dropna(axis=0, subset=['is_new'])\n",
    "data = data.dropna(axis=0, subset=['productId'])\n",
    "data = data.dropna(axis=0, subset=['ratings'])\n",
    "data = data.dropna(axis=0, subset=['userId'])\n",
    "data = data.dropna(axis=0, subset=['SpendingScore'])\n",
    "data = data.dropna(axis=0, subset=['Gender'])\n",
    "data = data.dropna(axis=0, subset=['Age'])\n"
   ]
  },
  {
   "cell_type": "markdown",
   "id": "7cc9273c",
   "metadata": {},
   "source": [
    "### CHECK FOR DUPLICATE DATA"
   ]
  },
  {
   "cell_type": "code",
   "execution_count": 11,
   "id": "1e533630",
   "metadata": {},
   "outputs": [
    {
     "name": "stdout",
     "output_type": "stream",
     "text": [
      "0\n"
     ]
    },
    {
     "data": {
      "text/html": [
       "<div>\n",
       "<style scoped>\n",
       "    .dataframe tbody tr th:only-of-type {\n",
       "        vertical-align: middle;\n",
       "    }\n",
       "\n",
       "    .dataframe tbody tr th {\n",
       "        vertical-align: top;\n",
       "    }\n",
       "\n",
       "    .dataframe thead th {\n",
       "        text-align: right;\n",
       "    }\n",
       "</style>\n",
       "<table border=\"1\" class=\"dataframe\">\n",
       "  <thead>\n",
       "    <tr style=\"text-align: right;\">\n",
       "      <th></th>\n",
       "      <th>category</th>\n",
       "      <th>current_price</th>\n",
       "      <th>raw_price</th>\n",
       "      <th>discount</th>\n",
       "      <th>Quantity</th>\n",
       "      <th>Order Price</th>\n",
       "      <th>likes_count</th>\n",
       "      <th>is_new</th>\n",
       "      <th>productId</th>\n",
       "      <th>userId</th>\n",
       "      <th>ratings</th>\n",
       "      <th>Income</th>\n",
       "      <th>SpendingScore</th>\n",
       "      <th>Gender</th>\n",
       "      <th>Age</th>\n",
       "    </tr>\n",
       "  </thead>\n",
       "  <tbody>\n",
       "  </tbody>\n",
       "</table>\n",
       "</div>"
      ],
      "text/plain": [
       "Empty DataFrame\n",
       "Columns: [category, current_price, raw_price, discount, Quantity, Order Price, likes_count, is_new, productId, userId, ratings, Income , SpendingScore, Gender, Age]\n",
       "Index: []"
      ]
     },
     "execution_count": 11,
     "metadata": {},
     "output_type": "execute_result"
    }
   ],
   "source": [
    "dup=data.duplicated()\n",
    "print(dup.sum())\n",
    "data[dup]"
   ]
  },
  {
   "cell_type": "markdown",
   "id": "6f384f25",
   "metadata": {},
   "source": [
    "### STATISTICAL FEATURES\n"
   ]
  },
  {
   "cell_type": "code",
   "execution_count": 12,
   "id": "e57eb79f",
   "metadata": {},
   "outputs": [
    {
     "data": {
      "text/plain": [
       "current_price    2.456743e+01\n",
       "raw_price        5.159344e+01\n",
       "discount         5.150727e+01\n",
       "Quantity         3.002747e+00\n",
       "Order Price      7.381649e+01\n",
       "likes_count      1.942795e+02\n",
       "is_new           3.276044e-02\n",
       "productId        1.418266e+06\n",
       "ratings          2.995960e+00\n",
       "Income           5.759438e+01\n",
       "SpendingScore    5.050591e+01\n",
       "Age              4.150830e+01\n",
       "dtype: float64"
      ]
     },
     "execution_count": 12,
     "metadata": {},
     "output_type": "execute_result"
    }
   ],
   "source": [
    "data.mean()\n"
   ]
  },
  {
   "cell_type": "code",
   "execution_count": 13,
   "id": "0e21b696",
   "metadata": {},
   "outputs": [
    {
     "data": {
      "text/plain": [
       "current_price         20.24\n",
       "raw_price             43.75\n",
       "discount              50.00\n",
       "Quantity               3.00\n",
       "Order Price           53.70\n",
       "likes_count           71.00\n",
       "is_new                 0.00\n",
       "productId        1414760.00\n",
       "ratings                3.00\n",
       "Income                58.00\n",
       "SpendingScore         51.00\n",
       "Age                   42.00\n",
       "dtype: float64"
      ]
     },
     "execution_count": 13,
     "metadata": {},
     "output_type": "execute_result"
    }
   ],
   "source": [
    "data.median()\n"
   ]
  },
  {
   "cell_type": "code",
   "execution_count": 14,
   "id": "383c1e4e",
   "metadata": {},
   "outputs": [
    {
     "data": {
      "text/plain": [
       "category                 women\n",
       "current_price          1899.99\n",
       "raw_price               5089.0\n",
       "discount                   100\n",
       "Quantity                     5\n",
       "Order Price            5699.97\n",
       "likes_count              21547\n",
       "is_new                    True\n",
       "productId              1724670\n",
       "userId           AZZZEWADNFNUM\n",
       "ratings                      5\n",
       "Income                     100\n",
       "SpendingScore              100\n",
       "Gender                       M\n",
       "Age                         65\n",
       "dtype: object"
      ]
     },
     "execution_count": 14,
     "metadata": {},
     "output_type": "execute_result"
    }
   ],
   "source": [
    "data.max()\n"
   ]
  },
  {
   "cell_type": "code",
   "execution_count": 15,
   "id": "bea8c561",
   "metadata": {},
   "outputs": [
    {
     "data": {
      "text/plain": [
       "category                   accessories\n",
       "current_price                     0.06\n",
       "raw_price                          0.0\n",
       "discount                             0\n",
       "Quantity                             1\n",
       "Order Price                       0.06\n",
       "likes_count                          0\n",
       "is_new                           False\n",
       "productId                         8189\n",
       "userId           A001944026UMZ8T3K5QH1\n",
       "ratings                              1\n",
       "Income                              15\n",
       "SpendingScore                        1\n",
       "Gender                               F\n",
       "Age                                 18\n",
       "dtype: object"
      ]
     },
     "execution_count": 15,
     "metadata": {},
     "output_type": "execute_result"
    }
   ],
   "source": [
    "data.min()\n"
   ]
  },
  {
   "cell_type": "code",
   "execution_count": 16,
   "id": "225e5456",
   "metadata": {},
   "outputs": [
    {
     "data": {
      "text/html": [
       "<div>\n",
       "<style scoped>\n",
       "    .dataframe tbody tr th:only-of-type {\n",
       "        vertical-align: middle;\n",
       "    }\n",
       "\n",
       "    .dataframe tbody tr th {\n",
       "        vertical-align: top;\n",
       "    }\n",
       "\n",
       "    .dataframe thead th {\n",
       "        text-align: right;\n",
       "    }\n",
       "</style>\n",
       "<table border=\"1\" class=\"dataframe\">\n",
       "  <thead>\n",
       "    <tr style=\"text-align: right;\">\n",
       "      <th></th>\n",
       "      <th>category</th>\n",
       "      <th>current_price</th>\n",
       "      <th>raw_price</th>\n",
       "      <th>discount</th>\n",
       "      <th>Quantity</th>\n",
       "      <th>Order Price</th>\n",
       "      <th>likes_count</th>\n",
       "      <th>is_new</th>\n",
       "      <th>productId</th>\n",
       "      <th>userId</th>\n",
       "      <th>ratings</th>\n",
       "      <th>Income</th>\n",
       "      <th>SpendingScore</th>\n",
       "      <th>Gender</th>\n",
       "      <th>Age</th>\n",
       "    </tr>\n",
       "  </thead>\n",
       "  <tbody>\n",
       "    <tr>\n",
       "      <th>0</th>\n",
       "      <td>women</td>\n",
       "      <td>19.99</td>\n",
       "      <td>39.99</td>\n",
       "      <td>50.0</td>\n",
       "      <td>4.0</td>\n",
       "      <td>99.95</td>\n",
       "      <td>0.0</td>\n",
       "      <td>False</td>\n",
       "      <td>78267</td>\n",
       "      <td>A231WM2Z2JL0U3</td>\n",
       "      <td>1.0</td>\n",
       "      <td>70.0</td>\n",
       "      <td>41.0</td>\n",
       "      <td>M</td>\n",
       "      <td>54.0</td>\n",
       "    </tr>\n",
       "    <tr>\n",
       "      <th>1</th>\n",
       "      <td>NaN</td>\n",
       "      <td>NaN</td>\n",
       "      <td>NaN</td>\n",
       "      <td>NaN</td>\n",
       "      <td>NaN</td>\n",
       "      <td>NaN</td>\n",
       "      <td>NaN</td>\n",
       "      <td>NaN</td>\n",
       "      <td>79950</td>\n",
       "      <td>NaN</td>\n",
       "      <td>NaN</td>\n",
       "      <td>NaN</td>\n",
       "      <td>NaN</td>\n",
       "      <td>NaN</td>\n",
       "      <td>NaN</td>\n",
       "    </tr>\n",
       "    <tr>\n",
       "      <th>2</th>\n",
       "      <td>NaN</td>\n",
       "      <td>NaN</td>\n",
       "      <td>NaN</td>\n",
       "      <td>NaN</td>\n",
       "      <td>NaN</td>\n",
       "      <td>NaN</td>\n",
       "      <td>NaN</td>\n",
       "      <td>NaN</td>\n",
       "      <td>907293</td>\n",
       "      <td>NaN</td>\n",
       "      <td>NaN</td>\n",
       "      <td>NaN</td>\n",
       "      <td>NaN</td>\n",
       "      <td>NaN</td>\n",
       "      <td>NaN</td>\n",
       "    </tr>\n",
       "    <tr>\n",
       "      <th>3</th>\n",
       "      <td>NaN</td>\n",
       "      <td>NaN</td>\n",
       "      <td>NaN</td>\n",
       "      <td>NaN</td>\n",
       "      <td>NaN</td>\n",
       "      <td>NaN</td>\n",
       "      <td>NaN</td>\n",
       "      <td>NaN</td>\n",
       "      <td>971648</td>\n",
       "      <td>NaN</td>\n",
       "      <td>NaN</td>\n",
       "      <td>NaN</td>\n",
       "      <td>NaN</td>\n",
       "      <td>NaN</td>\n",
       "      <td>NaN</td>\n",
       "    </tr>\n",
       "    <tr>\n",
       "      <th>4</th>\n",
       "      <td>NaN</td>\n",
       "      <td>NaN</td>\n",
       "      <td>NaN</td>\n",
       "      <td>NaN</td>\n",
       "      <td>NaN</td>\n",
       "      <td>NaN</td>\n",
       "      <td>NaN</td>\n",
       "      <td>NaN</td>\n",
       "      <td>1003346</td>\n",
       "      <td>NaN</td>\n",
       "      <td>NaN</td>\n",
       "      <td>NaN</td>\n",
       "      <td>NaN</td>\n",
       "      <td>NaN</td>\n",
       "      <td>NaN</td>\n",
       "    </tr>\n",
       "    <tr>\n",
       "      <th>...</th>\n",
       "      <td>...</td>\n",
       "      <td>...</td>\n",
       "      <td>...</td>\n",
       "      <td>...</td>\n",
       "      <td>...</td>\n",
       "      <td>...</td>\n",
       "      <td>...</td>\n",
       "      <td>...</td>\n",
       "      <td>...</td>\n",
       "      <td>...</td>\n",
       "      <td>...</td>\n",
       "      <td>...</td>\n",
       "      <td>...</td>\n",
       "      <td>...</td>\n",
       "      <td>...</td>\n",
       "    </tr>\n",
       "    <tr>\n",
       "      <th>478</th>\n",
       "      <td>NaN</td>\n",
       "      <td>NaN</td>\n",
       "      <td>NaN</td>\n",
       "      <td>NaN</td>\n",
       "      <td>NaN</td>\n",
       "      <td>NaN</td>\n",
       "      <td>NaN</td>\n",
       "      <td>NaN</td>\n",
       "      <td>1713184</td>\n",
       "      <td>NaN</td>\n",
       "      <td>NaN</td>\n",
       "      <td>NaN</td>\n",
       "      <td>NaN</td>\n",
       "      <td>NaN</td>\n",
       "      <td>NaN</td>\n",
       "    </tr>\n",
       "    <tr>\n",
       "      <th>479</th>\n",
       "      <td>NaN</td>\n",
       "      <td>NaN</td>\n",
       "      <td>NaN</td>\n",
       "      <td>NaN</td>\n",
       "      <td>NaN</td>\n",
       "      <td>NaN</td>\n",
       "      <td>NaN</td>\n",
       "      <td>NaN</td>\n",
       "      <td>1713784</td>\n",
       "      <td>NaN</td>\n",
       "      <td>NaN</td>\n",
       "      <td>NaN</td>\n",
       "      <td>NaN</td>\n",
       "      <td>NaN</td>\n",
       "      <td>NaN</td>\n",
       "    </tr>\n",
       "    <tr>\n",
       "      <th>480</th>\n",
       "      <td>NaN</td>\n",
       "      <td>NaN</td>\n",
       "      <td>NaN</td>\n",
       "      <td>NaN</td>\n",
       "      <td>NaN</td>\n",
       "      <td>NaN</td>\n",
       "      <td>NaN</td>\n",
       "      <td>NaN</td>\n",
       "      <td>1713803</td>\n",
       "      <td>NaN</td>\n",
       "      <td>NaN</td>\n",
       "      <td>NaN</td>\n",
       "      <td>NaN</td>\n",
       "      <td>NaN</td>\n",
       "      <td>NaN</td>\n",
       "    </tr>\n",
       "    <tr>\n",
       "      <th>481</th>\n",
       "      <td>NaN</td>\n",
       "      <td>NaN</td>\n",
       "      <td>NaN</td>\n",
       "      <td>NaN</td>\n",
       "      <td>NaN</td>\n",
       "      <td>NaN</td>\n",
       "      <td>NaN</td>\n",
       "      <td>NaN</td>\n",
       "      <td>1713869</td>\n",
       "      <td>NaN</td>\n",
       "      <td>NaN</td>\n",
       "      <td>NaN</td>\n",
       "      <td>NaN</td>\n",
       "      <td>NaN</td>\n",
       "      <td>NaN</td>\n",
       "    </tr>\n",
       "    <tr>\n",
       "      <th>482</th>\n",
       "      <td>NaN</td>\n",
       "      <td>NaN</td>\n",
       "      <td>NaN</td>\n",
       "      <td>NaN</td>\n",
       "      <td>NaN</td>\n",
       "      <td>NaN</td>\n",
       "      <td>NaN</td>\n",
       "      <td>NaN</td>\n",
       "      <td>1716362</td>\n",
       "      <td>NaN</td>\n",
       "      <td>NaN</td>\n",
       "      <td>NaN</td>\n",
       "      <td>NaN</td>\n",
       "      <td>NaN</td>\n",
       "      <td>NaN</td>\n",
       "    </tr>\n",
       "  </tbody>\n",
       "</table>\n",
       "<p>483 rows × 15 columns</p>\n",
       "</div>"
      ],
      "text/plain": [
       "    category  current_price  raw_price  discount  Quantity  Order Price  \\\n",
       "0      women          19.99      39.99      50.0       4.0        99.95   \n",
       "1        NaN            NaN        NaN       NaN       NaN          NaN   \n",
       "2        NaN            NaN        NaN       NaN       NaN          NaN   \n",
       "3        NaN            NaN        NaN       NaN       NaN          NaN   \n",
       "4        NaN            NaN        NaN       NaN       NaN          NaN   \n",
       "..       ...            ...        ...       ...       ...          ...   \n",
       "478      NaN            NaN        NaN       NaN       NaN          NaN   \n",
       "479      NaN            NaN        NaN       NaN       NaN          NaN   \n",
       "480      NaN            NaN        NaN       NaN       NaN          NaN   \n",
       "481      NaN            NaN        NaN       NaN       NaN          NaN   \n",
       "482      NaN            NaN        NaN       NaN       NaN          NaN   \n",
       "\n",
       "     likes_count is_new  productId          userId  ratings  Income   \\\n",
       "0            0.0  False      78267  A231WM2Z2JL0U3      1.0     70.0   \n",
       "1            NaN    NaN      79950             NaN      NaN      NaN   \n",
       "2            NaN    NaN     907293             NaN      NaN      NaN   \n",
       "3            NaN    NaN     971648             NaN      NaN      NaN   \n",
       "4            NaN    NaN    1003346             NaN      NaN      NaN   \n",
       "..           ...    ...        ...             ...      ...      ...   \n",
       "478          NaN    NaN    1713184             NaN      NaN      NaN   \n",
       "479          NaN    NaN    1713784             NaN      NaN      NaN   \n",
       "480          NaN    NaN    1713803             NaN      NaN      NaN   \n",
       "481          NaN    NaN    1713869             NaN      NaN      NaN   \n",
       "482          NaN    NaN    1716362             NaN      NaN      NaN   \n",
       "\n",
       "     SpendingScore Gender   Age  \n",
       "0             41.0      M  54.0  \n",
       "1              NaN    NaN   NaN  \n",
       "2              NaN    NaN   NaN  \n",
       "3              NaN    NaN   NaN  \n",
       "4              NaN    NaN   NaN  \n",
       "..             ...    ...   ...  \n",
       "478            NaN    NaN   NaN  \n",
       "479            NaN    NaN   NaN  \n",
       "480            NaN    NaN   NaN  \n",
       "481            NaN    NaN   NaN  \n",
       "482            NaN    NaN   NaN  \n",
       "\n",
       "[483 rows x 15 columns]"
      ]
     },
     "execution_count": 16,
     "metadata": {},
     "output_type": "execute_result"
    }
   ],
   "source": [
    "data.mode()\n"
   ]
  },
  {
   "cell_type": "markdown",
   "id": "0d278413",
   "metadata": {},
   "source": [
    "### EXPLORATORY DATA ANALYSIS"
   ]
  },
  {
   "cell_type": "code",
   "execution_count": null,
   "id": "39a54782",
   "metadata": {},
   "outputs": [],
   "source": []
  },
  {
   "cell_type": "code",
   "execution_count": 17,
   "id": "2fd0ad78",
   "metadata": {},
   "outputs": [
    {
     "name": "stderr",
     "output_type": "stream",
     "text": [
      "C:\\Users\\Student\\anaconda3\\lib\\site-packages\\seaborn\\distributions.py:2557: FutureWarning: `distplot` is a deprecated function and will be removed in a future version. Please adapt your code to use either `displot` (a figure-level function with similar flexibility) or `histplot` (an axes-level function for histograms).\n",
      "  warnings.warn(msg, FutureWarning)\n"
     ]
    },
    {
     "data": {
      "text/plain": [
       "<AxesSubplot:xlabel='current_price', ylabel='Density'>"
      ]
     },
     "execution_count": 17,
     "metadata": {},
     "output_type": "execute_result"
    },
    {
     "data": {
      "image/png": "[encoded data removed]",
      "text/plain": [
       "<Figure size 432x288 with 1 Axes>"
      ]
     },
     "metadata": {
      "needs_background": "light"
     },
     "output_type": "display_data"
    }
   ],
   "source": [
    "sns.distplot(data['current_price'])\n",
    "\n"
   ]
  },
  {
   "cell_type": "code",
   "execution_count": 18,
   "id": "72ca3e43",
   "metadata": {},
   "outputs": [
    {
     "name": "stderr",
     "output_type": "stream",
     "text": [
      "C:\\Users\\Student\\anaconda3\\lib\\site-packages\\seaborn\\distributions.py:2557: FutureWarning: `distplot` is a deprecated function and will be removed in a future version. Please adapt your code to use either `displot` (a figure-level function with similar flexibility) or `histplot` (an axes-level function for histograms).\n",
      "  warnings.warn(msg, FutureWarning)\n"
     ]
    },
    {
     "data": {
      "text/plain": [
       "<AxesSubplot:xlabel='raw_price', ylabel='Density'>"
      ]
     },
     "execution_count": 18,
     "metadata": {},
     "output_type": "execute_result"
    },
    {
     "data": {
      "image/png": "[encoded data removed]",
      "text/plain": [
       "<Figure size 432x288 with 1 Axes>"
      ]
     },
     "metadata": {
      "needs_background": "light"
     },
     "output_type": "display_data"
    }
   ],
   "source": [
    "sns.distplot(data['raw_price'])\n",
    "\n"
   ]
  },
  {
   "cell_type": "code",
   "execution_count": 19,
   "id": "7a4c40ca",
   "metadata": {},
   "outputs": [
    {
     "data": {
      "text/plain": [
       "<AxesSubplot:xlabel='Order Price', ylabel='Density'>"
      ]
     },
     "execution_count": 19,
     "metadata": {},
     "output_type": "execute_result"
    },
    {
     "data": {
      "image/png": "[encoded data removed]",
      "text/plain": [
       "<Figure size 432x288 with 1 Axes>"
      ]
     },
     "metadata": {
      "needs_background": "light"
     },
     "output_type": "display_data"
    }
   ],
   "source": [
    "sns.kdeplot(data['Order Price'])\n"
   ]
  },
  {
   "cell_type": "code",
   "execution_count": 20,
   "id": "d03129f3",
   "metadata": {},
   "outputs": [
    {
     "data": {
      "text/plain": [
       "<AxesSubplot:xlabel='discount', ylabel='Density'>"
      ]
     },
     "execution_count": 20,
     "metadata": {},
     "output_type": "execute_result"
    },
    {
     "data": {
      "image/png": "[encoded data removed]",
      "text/plain": [
       "<Figure size 432x288 with 1 Axes>"
      ]
     },
     "metadata": {
      "needs_background": "light"
     },
     "output_type": "display_data"
    }
   ],
   "source": [
    "sns.kdeplot(data['discount'], color='r')\n"
   ]
  },
  {
   "cell_type": "code",
   "execution_count": 21,
   "id": "a7a78837",
   "metadata": {},
   "outputs": [
    {
     "data": {
      "text/plain": [
       "<AxesSubplot:xlabel='SpendingScore', ylabel='Density'>"
      ]
     },
     "execution_count": 21,
     "metadata": {},
     "output_type": "execute_result"
    },
    {
     "data": {
      "image/png": "[encoded data removed]",
      "text/plain": [
       "<Figure size 432x288 with 1 Axes>"
      ]
     },
     "metadata": {
      "needs_background": "light"
     },
     "output_type": "display_data"
    }
   ],
   "source": [
    "sns.kdeplot(data['SpendingScore'], color='y')"
   ]
  },
  {
   "cell_type": "code",
   "execution_count": null,
   "id": "59140f55",
   "metadata": {},
   "outputs": [],
   "source": []
  },
  {
   "cell_type": "markdown",
   "id": "f225245d",
   "metadata": {},
   "source": [
    "### CORRELATION"
   ]
  },
  {
   "cell_type": "code",
   "execution_count": 22,
   "id": "52178473",
   "metadata": {},
   "outputs": [
    {
     "data": {
      "text/html": [
       "<div>\n",
       "<style scoped>\n",
       "    .dataframe tbody tr th:only-of-type {\n",
       "        vertical-align: middle;\n",
       "    }\n",
       "\n",
       "    .dataframe tbody tr th {\n",
       "        vertical-align: top;\n",
       "    }\n",
       "\n",
       "    .dataframe thead th {\n",
       "        text-align: right;\n",
       "    }\n",
       "</style>\n",
       "<table border=\"1\" class=\"dataframe\">\n",
       "  <thead>\n",
       "    <tr style=\"text-align: right;\">\n",
       "      <th></th>\n",
       "      <th>current_price</th>\n",
       "      <th>raw_price</th>\n",
       "      <th>discount</th>\n",
       "      <th>Quantity</th>\n",
       "      <th>Order Price</th>\n",
       "      <th>likes_count</th>\n",
       "      <th>is_new</th>\n",
       "      <th>productId</th>\n",
       "      <th>ratings</th>\n",
       "      <th>Income</th>\n",
       "      <th>SpendingScore</th>\n",
       "      <th>Age</th>\n",
       "    </tr>\n",
       "  </thead>\n",
       "  <tbody>\n",
       "    <tr>\n",
       "      <th>current_price</th>\n",
       "      <td>1.000000</td>\n",
       "      <td>0.853663</td>\n",
       "      <td>-0.156816</td>\n",
       "      <td>0.001505</td>\n",
       "      <td>0.817131</td>\n",
       "      <td>0.037084</td>\n",
       "      <td>-0.006942</td>\n",
       "      <td>0.089683</td>\n",
       "      <td>0.000805</td>\n",
       "      <td>0.001244</td>\n",
       "      <td>0.000982</td>\n",
       "      <td>-0.006135</td>\n",
       "    </tr>\n",
       "    <tr>\n",
       "      <th>raw_price</th>\n",
       "      <td>0.853663</td>\n",
       "      <td>1.000000</td>\n",
       "      <td>0.099600</td>\n",
       "      <td>0.000385</td>\n",
       "      <td>0.696192</td>\n",
       "      <td>0.036895</td>\n",
       "      <td>0.007571</td>\n",
       "      <td>0.082403</td>\n",
       "      <td>-0.002333</td>\n",
       "      <td>0.001465</td>\n",
       "      <td>0.000043</td>\n",
       "      <td>-0.006060</td>\n",
       "    </tr>\n",
       "    <tr>\n",
       "      <th>discount</th>\n",
       "      <td>-0.156816</td>\n",
       "      <td>0.099600</td>\n",
       "      <td>1.000000</td>\n",
       "      <td>0.005323</td>\n",
       "      <td>-0.130610</td>\n",
       "      <td>-0.002406</td>\n",
       "      <td>0.003879</td>\n",
       "      <td>-0.052751</td>\n",
       "      <td>-0.000966</td>\n",
       "      <td>-0.000990</td>\n",
       "      <td>0.004550</td>\n",
       "      <td>0.006146</td>\n",
       "    </tr>\n",
       "    <tr>\n",
       "      <th>Quantity</th>\n",
       "      <td>0.001505</td>\n",
       "      <td>0.000385</td>\n",
       "      <td>0.005323</td>\n",
       "      <td>1.000000</td>\n",
       "      <td>0.447317</td>\n",
       "      <td>0.006323</td>\n",
       "      <td>-0.009249</td>\n",
       "      <td>-0.006783</td>\n",
       "      <td>0.000459</td>\n",
       "      <td>-0.008120</td>\n",
       "      <td>-0.004417</td>\n",
       "      <td>-0.000337</td>\n",
       "    </tr>\n",
       "    <tr>\n",
       "      <th>Order Price</th>\n",
       "      <td>0.817131</td>\n",
       "      <td>0.696192</td>\n",
       "      <td>-0.130610</td>\n",
       "      <td>0.447317</td>\n",
       "      <td>1.000000</td>\n",
       "      <td>0.032497</td>\n",
       "      <td>-0.011086</td>\n",
       "      <td>0.073536</td>\n",
       "      <td>0.001152</td>\n",
       "      <td>-0.002301</td>\n",
       "      <td>-0.000037</td>\n",
       "      <td>-0.007685</td>\n",
       "    </tr>\n",
       "    <tr>\n",
       "      <th>likes_count</th>\n",
       "      <td>0.037084</td>\n",
       "      <td>0.036895</td>\n",
       "      <td>-0.002406</td>\n",
       "      <td>0.006323</td>\n",
       "      <td>0.032497</td>\n",
       "      <td>1.000000</td>\n",
       "      <td>-0.066408</td>\n",
       "      <td>-0.168748</td>\n",
       "      <td>-0.002719</td>\n",
       "      <td>-0.002553</td>\n",
       "      <td>0.004639</td>\n",
       "      <td>-0.002284</td>\n",
       "    </tr>\n",
       "    <tr>\n",
       "      <th>is_new</th>\n",
       "      <td>-0.006942</td>\n",
       "      <td>0.007571</td>\n",
       "      <td>0.003879</td>\n",
       "      <td>-0.009249</td>\n",
       "      <td>-0.011086</td>\n",
       "      <td>-0.066408</td>\n",
       "      <td>1.000000</td>\n",
       "      <td>0.242439</td>\n",
       "      <td>-0.003553</td>\n",
       "      <td>0.001296</td>\n",
       "      <td>-0.002636</td>\n",
       "      <td>-0.010345</td>\n",
       "    </tr>\n",
       "    <tr>\n",
       "      <th>productId</th>\n",
       "      <td>0.089683</td>\n",
       "      <td>0.082403</td>\n",
       "      <td>-0.052751</td>\n",
       "      <td>-0.006783</td>\n",
       "      <td>0.073536</td>\n",
       "      <td>-0.168748</td>\n",
       "      <td>0.242439</td>\n",
       "      <td>1.000000</td>\n",
       "      <td>-0.003017</td>\n",
       "      <td>0.008815</td>\n",
       "      <td>-0.003834</td>\n",
       "      <td>0.002317</td>\n",
       "    </tr>\n",
       "    <tr>\n",
       "      <th>ratings</th>\n",
       "      <td>0.000805</td>\n",
       "      <td>-0.002333</td>\n",
       "      <td>-0.000966</td>\n",
       "      <td>0.000459</td>\n",
       "      <td>0.001152</td>\n",
       "      <td>-0.002719</td>\n",
       "      <td>-0.003553</td>\n",
       "      <td>-0.003017</td>\n",
       "      <td>1.000000</td>\n",
       "      <td>-0.003370</td>\n",
       "      <td>0.000832</td>\n",
       "      <td>-0.005037</td>\n",
       "    </tr>\n",
       "    <tr>\n",
       "      <th>Income</th>\n",
       "      <td>0.001244</td>\n",
       "      <td>0.001465</td>\n",
       "      <td>-0.000990</td>\n",
       "      <td>-0.008120</td>\n",
       "      <td>-0.002301</td>\n",
       "      <td>-0.002553</td>\n",
       "      <td>0.001296</td>\n",
       "      <td>0.008815</td>\n",
       "      <td>-0.003370</td>\n",
       "      <td>1.000000</td>\n",
       "      <td>0.002405</td>\n",
       "      <td>0.001136</td>\n",
       "    </tr>\n",
       "    <tr>\n",
       "      <th>SpendingScore</th>\n",
       "      <td>0.000982</td>\n",
       "      <td>0.000043</td>\n",
       "      <td>0.004550</td>\n",
       "      <td>-0.004417</td>\n",
       "      <td>-0.000037</td>\n",
       "      <td>0.004639</td>\n",
       "      <td>-0.002636</td>\n",
       "      <td>-0.003834</td>\n",
       "      <td>0.000832</td>\n",
       "      <td>0.002405</td>\n",
       "      <td>1.000000</td>\n",
       "      <td>-0.006682</td>\n",
       "    </tr>\n",
       "    <tr>\n",
       "      <th>Age</th>\n",
       "      <td>-0.006135</td>\n",
       "      <td>-0.006060</td>\n",
       "      <td>0.006146</td>\n",
       "      <td>-0.000337</td>\n",
       "      <td>-0.007685</td>\n",
       "      <td>-0.002284</td>\n",
       "      <td>-0.010345</td>\n",
       "      <td>0.002317</td>\n",
       "      <td>-0.005037</td>\n",
       "      <td>0.001136</td>\n",
       "      <td>-0.006682</td>\n",
       "      <td>1.000000</td>\n",
       "    </tr>\n",
       "  </tbody>\n",
       "</table>\n",
       "</div>"
      ],
      "text/plain": [
       "               current_price  raw_price  discount  Quantity  Order Price  \\\n",
       "current_price       1.000000   0.853663 -0.156816  0.001505     0.817131   \n",
       "raw_price           0.853663   1.000000  0.099600  0.000385     0.696192   \n",
       "discount           -0.156816   0.099600  1.000000  0.005323    -0.130610   \n",
       "Quantity            0.001505   0.000385  0.005323  1.000000     0.447317   \n",
       "Order Price         0.817131   0.696192 -0.130610  0.447317     1.000000   \n",
       "likes_count         0.037084   0.036895 -0.002406  0.006323     0.032497   \n",
       "is_new             -0.006942   0.007571  0.003879 -0.009249    -0.011086   \n",
       "productId           0.089683   0.082403 -0.052751 -0.006783     0.073536   \n",
       "ratings             0.000805  -0.002333 -0.000966  0.000459     0.001152   \n",
       "Income              0.001244   0.001465 -0.000990 -0.008120    -0.002301   \n",
       "SpendingScore       0.000982   0.000043  0.004550 -0.004417    -0.000037   \n",
       "Age                -0.006135  -0.006060  0.006146 -0.000337    -0.007685   \n",
       "\n",
       "               likes_count    is_new  productId   ratings   Income   \\\n",
       "current_price     0.037084 -0.006942   0.089683  0.000805  0.001244   \n",
       "raw_price         0.036895  0.007571   0.082403 -0.002333  0.001465   \n",
       "discount         -0.002406  0.003879  -0.052751 -0.000966 -0.000990   \n",
       "Quantity          0.006323 -0.009249  -0.006783  0.000459 -0.008120   \n",
       "Order Price       0.032497 -0.011086   0.073536  0.001152 -0.002301   \n",
       "likes_count       1.000000 -0.066408  -0.168748 -0.002719 -0.002553   \n",
       "is_new           -0.066408  1.000000   0.242439 -0.003553  0.001296   \n",
       "productId        -0.168748  0.242439   1.000000 -0.003017  0.008815   \n",
       "ratings          -0.002719 -0.003553  -0.003017  1.000000 -0.003370   \n",
       "Income           -0.002553  0.001296   0.008815 -0.003370  1.000000   \n",
       "SpendingScore     0.004639 -0.002636  -0.003834  0.000832  0.002405   \n",
       "Age              -0.002284 -0.010345   0.002317 -0.005037  0.001136   \n",
       "\n",
       "               SpendingScore       Age  \n",
       "current_price       0.000982 -0.006135  \n",
       "raw_price           0.000043 -0.006060  \n",
       "discount            0.004550  0.006146  \n",
       "Quantity           -0.004417 -0.000337  \n",
       "Order Price        -0.000037 -0.007685  \n",
       "likes_count         0.004639 -0.002284  \n",
       "is_new             -0.002636 -0.010345  \n",
       "productId          -0.003834  0.002317  \n",
       "ratings             0.000832 -0.005037  \n",
       "Income              0.002405  0.001136  \n",
       "SpendingScore       1.000000 -0.006682  \n",
       "Age                -0.006682  1.000000  "
      ]
     },
     "execution_count": 22,
     "metadata": {},
     "output_type": "execute_result"
    }
   ],
   "source": [
    "data.corr()"
   ]
  },
  {
   "cell_type": "code",
   "execution_count": 23,
   "id": "0dfdaa18",
   "metadata": {},
   "outputs": [
    {
     "data": {
      "text/html": [
       "<div>\n",
       "<style scoped>\n",
       "    .dataframe tbody tr th:only-of-type {\n",
       "        vertical-align: middle;\n",
       "    }\n",
       "\n",
       "    .dataframe tbody tr th {\n",
       "        vertical-align: top;\n",
       "    }\n",
       "\n",
       "    .dataframe thead th {\n",
       "        text-align: right;\n",
       "    }\n",
       "</style>\n",
       "<table border=\"1\" class=\"dataframe\">\n",
       "  <thead>\n",
       "    <tr style=\"text-align: right;\">\n",
       "      <th></th>\n",
       "      <th>current_price</th>\n",
       "      <th>raw_price</th>\n",
       "      <th>discount</th>\n",
       "      <th>Quantity</th>\n",
       "      <th>Order Price</th>\n",
       "      <th>likes_count</th>\n",
       "      <th>is_new</th>\n",
       "      <th>productId</th>\n",
       "      <th>ratings</th>\n",
       "      <th>Income</th>\n",
       "      <th>SpendingScore</th>\n",
       "      <th>Age</th>\n",
       "    </tr>\n",
       "  </thead>\n",
       "  <tbody>\n",
       "    <tr>\n",
       "      <th>current_price</th>\n",
       "      <td>1.000000</td>\n",
       "      <td>0.853663</td>\n",
       "      <td>-0.156816</td>\n",
       "      <td>0.001505</td>\n",
       "      <td>0.817131</td>\n",
       "      <td>0.037084</td>\n",
       "      <td>-0.006942</td>\n",
       "      <td>0.089683</td>\n",
       "      <td>0.000805</td>\n",
       "      <td>0.001244</td>\n",
       "      <td>0.000982</td>\n",
       "      <td>-0.006135</td>\n",
       "    </tr>\n",
       "    <tr>\n",
       "      <th>raw_price</th>\n",
       "      <td>0.853663</td>\n",
       "      <td>1.000000</td>\n",
       "      <td>0.099600</td>\n",
       "      <td>0.000385</td>\n",
       "      <td>0.696192</td>\n",
       "      <td>0.036895</td>\n",
       "      <td>0.007571</td>\n",
       "      <td>0.082403</td>\n",
       "      <td>-0.002333</td>\n",
       "      <td>0.001465</td>\n",
       "      <td>0.000043</td>\n",
       "      <td>-0.006060</td>\n",
       "    </tr>\n",
       "    <tr>\n",
       "      <th>discount</th>\n",
       "      <td>-0.156816</td>\n",
       "      <td>0.099600</td>\n",
       "      <td>1.000000</td>\n",
       "      <td>0.005323</td>\n",
       "      <td>-0.130610</td>\n",
       "      <td>-0.002406</td>\n",
       "      <td>0.003879</td>\n",
       "      <td>-0.052751</td>\n",
       "      <td>-0.000966</td>\n",
       "      <td>-0.000990</td>\n",
       "      <td>0.004550</td>\n",
       "      <td>0.006146</td>\n",
       "    </tr>\n",
       "    <tr>\n",
       "      <th>Quantity</th>\n",
       "      <td>0.001505</td>\n",
       "      <td>0.000385</td>\n",
       "      <td>0.005323</td>\n",
       "      <td>1.000000</td>\n",
       "      <td>0.447317</td>\n",
       "      <td>0.006323</td>\n",
       "      <td>-0.009249</td>\n",
       "      <td>-0.006783</td>\n",
       "      <td>0.000459</td>\n",
       "      <td>-0.008120</td>\n",
       "      <td>-0.004417</td>\n",
       "      <td>-0.000337</td>\n",
       "    </tr>\n",
       "    <tr>\n",
       "      <th>Order Price</th>\n",
       "      <td>0.817131</td>\n",
       "      <td>0.696192</td>\n",
       "      <td>-0.130610</td>\n",
       "      <td>0.447317</td>\n",
       "      <td>1.000000</td>\n",
       "      <td>0.032497</td>\n",
       "      <td>-0.011086</td>\n",
       "      <td>0.073536</td>\n",
       "      <td>0.001152</td>\n",
       "      <td>-0.002301</td>\n",
       "      <td>-0.000037</td>\n",
       "      <td>-0.007685</td>\n",
       "    </tr>\n",
       "    <tr>\n",
       "      <th>likes_count</th>\n",
       "      <td>0.037084</td>\n",
       "      <td>0.036895</td>\n",
       "      <td>-0.002406</td>\n",
       "      <td>0.006323</td>\n",
       "      <td>0.032497</td>\n",
       "      <td>1.000000</td>\n",
       "      <td>-0.066408</td>\n",
       "      <td>-0.168748</td>\n",
       "      <td>-0.002719</td>\n",
       "      <td>-0.002553</td>\n",
       "      <td>0.004639</td>\n",
       "      <td>-0.002284</td>\n",
       "    </tr>\n",
       "    <tr>\n",
       "      <th>is_new</th>\n",
       "      <td>-0.006942</td>\n",
       "      <td>0.007571</td>\n",
       "      <td>0.003879</td>\n",
       "      <td>-0.009249</td>\n",
       "      <td>-0.011086</td>\n",
       "      <td>-0.066408</td>\n",
       "      <td>1.000000</td>\n",
       "      <td>0.242439</td>\n",
       "      <td>-0.003553</td>\n",
       "      <td>0.001296</td>\n",
       "      <td>-0.002636</td>\n",
       "      <td>-0.010345</td>\n",
       "    </tr>\n",
       "    <tr>\n",
       "      <th>productId</th>\n",
       "      <td>0.089683</td>\n",
       "      <td>0.082403</td>\n",
       "      <td>-0.052751</td>\n",
       "      <td>-0.006783</td>\n",
       "      <td>0.073536</td>\n",
       "      <td>-0.168748</td>\n",
       "      <td>0.242439</td>\n",
       "      <td>1.000000</td>\n",
       "      <td>-0.003017</td>\n",
       "      <td>0.008815</td>\n",
       "      <td>-0.003834</td>\n",
       "      <td>0.002317</td>\n",
       "    </tr>\n",
       "    <tr>\n",
       "      <th>ratings</th>\n",
       "      <td>0.000805</td>\n",
       "      <td>-0.002333</td>\n",
       "      <td>-0.000966</td>\n",
       "      <td>0.000459</td>\n",
       "      <td>0.001152</td>\n",
       "      <td>-0.002719</td>\n",
       "      <td>-0.003553</td>\n",
       "      <td>-0.003017</td>\n",
       "      <td>1.000000</td>\n",
       "      <td>-0.003370</td>\n",
       "      <td>0.000832</td>\n",
       "      <td>-0.005037</td>\n",
       "    </tr>\n",
       "    <tr>\n",
       "      <th>Income</th>\n",
       "      <td>0.001244</td>\n",
       "      <td>0.001465</td>\n",
       "      <td>-0.000990</td>\n",
       "      <td>-0.008120</td>\n",
       "      <td>-0.002301</td>\n",
       "      <td>-0.002553</td>\n",
       "      <td>0.001296</td>\n",
       "      <td>0.008815</td>\n",
       "      <td>-0.003370</td>\n",
       "      <td>1.000000</td>\n",
       "      <td>0.002405</td>\n",
       "      <td>0.001136</td>\n",
       "    </tr>\n",
       "    <tr>\n",
       "      <th>SpendingScore</th>\n",
       "      <td>0.000982</td>\n",
       "      <td>0.000043</td>\n",
       "      <td>0.004550</td>\n",
       "      <td>-0.004417</td>\n",
       "      <td>-0.000037</td>\n",
       "      <td>0.004639</td>\n",
       "      <td>-0.002636</td>\n",
       "      <td>-0.003834</td>\n",
       "      <td>0.000832</td>\n",
       "      <td>0.002405</td>\n",
       "      <td>1.000000</td>\n",
       "      <td>-0.006682</td>\n",
       "    </tr>\n",
       "    <tr>\n",
       "      <th>Age</th>\n",
       "      <td>-0.006135</td>\n",
       "      <td>-0.006060</td>\n",
       "      <td>0.006146</td>\n",
       "      <td>-0.000337</td>\n",
       "      <td>-0.007685</td>\n",
       "      <td>-0.002284</td>\n",
       "      <td>-0.010345</td>\n",
       "      <td>0.002317</td>\n",
       "      <td>-0.005037</td>\n",
       "      <td>0.001136</td>\n",
       "      <td>-0.006682</td>\n",
       "      <td>1.000000</td>\n",
       "    </tr>\n",
       "  </tbody>\n",
       "</table>\n",
       "</div>"
      ],
      "text/plain": [
       "               current_price  raw_price  discount  Quantity  Order Price  \\\n",
       "current_price       1.000000   0.853663 -0.156816  0.001505     0.817131   \n",
       "raw_price           0.853663   1.000000  0.099600  0.000385     0.696192   \n",
       "discount           -0.156816   0.099600  1.000000  0.005323    -0.130610   \n",
       "Quantity            0.001505   0.000385  0.005323  1.000000     0.447317   \n",
       "Order Price         0.817131   0.696192 -0.130610  0.447317     1.000000   \n",
       "likes_count         0.037084   0.036895 -0.002406  0.006323     0.032497   \n",
       "is_new             -0.006942   0.007571  0.003879 -0.009249    -0.011086   \n",
       "productId           0.089683   0.082403 -0.052751 -0.006783     0.073536   \n",
       "ratings             0.000805  -0.002333 -0.000966  0.000459     0.001152   \n",
       "Income              0.001244   0.001465 -0.000990 -0.008120    -0.002301   \n",
       "SpendingScore       0.000982   0.000043  0.004550 -0.004417    -0.000037   \n",
       "Age                -0.006135  -0.006060  0.006146 -0.000337    -0.007685   \n",
       "\n",
       "               likes_count    is_new  productId   ratings   Income   \\\n",
       "current_price     0.037084 -0.006942   0.089683  0.000805  0.001244   \n",
       "raw_price         0.036895  0.007571   0.082403 -0.002333  0.001465   \n",
       "discount         -0.002406  0.003879  -0.052751 -0.000966 -0.000990   \n",
       "Quantity          0.006323 -0.009249  -0.006783  0.000459 -0.008120   \n",
       "Order Price       0.032497 -0.011086   0.073536  0.001152 -0.002301   \n",
       "likes_count       1.000000 -0.066408  -0.168748 -0.002719 -0.002553   \n",
       "is_new           -0.066408  1.000000   0.242439 -0.003553  0.001296   \n",
       "productId        -0.168748  0.242439   1.000000 -0.003017  0.008815   \n",
       "ratings          -0.002719 -0.003553  -0.003017  1.000000 -0.003370   \n",
       "Income           -0.002553  0.001296   0.008815 -0.003370  1.000000   \n",
       "SpendingScore     0.004639 -0.002636  -0.003834  0.000832  0.002405   \n",
       "Age              -0.002284 -0.010345   0.002317 -0.005037  0.001136   \n",
       "\n",
       "               SpendingScore       Age  \n",
       "current_price       0.000982 -0.006135  \n",
       "raw_price           0.000043 -0.006060  \n",
       "discount            0.004550  0.006146  \n",
       "Quantity           -0.004417 -0.000337  \n",
       "Order Price        -0.000037 -0.007685  \n",
       "likes_count         0.004639 -0.002284  \n",
       "is_new             -0.002636 -0.010345  \n",
       "productId          -0.003834  0.002317  \n",
       "ratings             0.000832 -0.005037  \n",
       "Income              0.002405  0.001136  \n",
       "SpendingScore       1.000000 -0.006682  \n",
       "Age                -0.006682  1.000000  "
      ]
     },
     "execution_count": 23,
     "metadata": {},
     "output_type": "execute_result"
    }
   ],
   "source": [
    "#set_option('precision',3)\n",
    "correlations=data.corr(method='pearson')\n",
    "correlations"
   ]
  },
  {
   "cell_type": "markdown",
   "id": "0298180f",
   "metadata": {},
   "source": [
    "### COVARIANCE"
   ]
  },
  {
   "cell_type": "code",
   "execution_count": 24,
   "id": "a07ddccf",
   "metadata": {},
   "outputs": [
    {
     "data": {
      "text/html": [
       "<div>\n",
       "<style scoped>\n",
       "    .dataframe tbody tr th:only-of-type {\n",
       "        vertical-align: middle;\n",
       "    }\n",
       "\n",
       "    .dataframe tbody tr th {\n",
       "        vertical-align: top;\n",
       "    }\n",
       "\n",
       "    .dataframe thead th {\n",
       "        text-align: right;\n",
       "    }\n",
       "</style>\n",
       "<table border=\"1\" class=\"dataframe\">\n",
       "  <thead>\n",
       "    <tr style=\"text-align: right;\">\n",
       "      <th></th>\n",
       "      <th>current_price</th>\n",
       "      <th>raw_price</th>\n",
       "      <th>discount</th>\n",
       "      <th>Quantity</th>\n",
       "      <th>Order Price</th>\n",
       "      <th>likes_count</th>\n",
       "      <th>is_new</th>\n",
       "      <th>productId</th>\n",
       "      <th>ratings</th>\n",
       "      <th>Income</th>\n",
       "      <th>SpendingScore</th>\n",
       "      <th>Age</th>\n",
       "    </tr>\n",
       "  </thead>\n",
       "  <tbody>\n",
       "    <tr>\n",
       "      <th>current_price</th>\n",
       "      <td>480.995851</td>\n",
       "      <td>957.729322</td>\n",
       "      <td>-37.564925</td>\n",
       "      <td>0.046712</td>\n",
       "      <td>1.395577e+03</td>\n",
       "      <td>4.315069e+02</td>\n",
       "      <td>-0.027101</td>\n",
       "      <td>4.366086e+05</td>\n",
       "      <td>0.024948</td>\n",
       "      <td>0.675512</td>\n",
       "      <td>0.621184</td>\n",
       "      <td>-1.866618</td>\n",
       "    </tr>\n",
       "    <tr>\n",
       "      <th>raw_price</th>\n",
       "      <td>957.729322</td>\n",
       "      <td>2616.803648</td>\n",
       "      <td>55.650195</td>\n",
       "      <td>0.027887</td>\n",
       "      <td>2.773358e+03</td>\n",
       "      <td>1.001349e+03</td>\n",
       "      <td>0.068941</td>\n",
       "      <td>9.357096e+05</td>\n",
       "      <td>-0.168749</td>\n",
       "      <td>1.856403</td>\n",
       "      <td>0.062780</td>\n",
       "      <td>-4.300452</td>\n",
       "    </tr>\n",
       "    <tr>\n",
       "      <th>discount</th>\n",
       "      <td>-37.564925</td>\n",
       "      <td>55.650195</td>\n",
       "      <td>119.301232</td>\n",
       "      <td>0.082276</td>\n",
       "      <td>-1.110939e+02</td>\n",
       "      <td>-1.394370e+01</td>\n",
       "      <td>0.007542</td>\n",
       "      <td>-1.278991e+05</td>\n",
       "      <td>-0.014924</td>\n",
       "      <td>-0.267824</td>\n",
       "      <td>1.433045</td>\n",
       "      <td>0.931274</td>\n",
       "    </tr>\n",
       "    <tr>\n",
       "      <th>Quantity</th>\n",
       "      <td>0.046712</td>\n",
       "      <td>0.027887</td>\n",
       "      <td>0.082276</td>\n",
       "      <td>2.002659</td>\n",
       "      <td>4.929587e+01</td>\n",
       "      <td>4.747639e+00</td>\n",
       "      <td>-0.002330</td>\n",
       "      <td>-2.130629e+03</td>\n",
       "      <td>0.000918</td>\n",
       "      <td>-0.284613</td>\n",
       "      <td>-0.180261</td>\n",
       "      <td>-0.006610</td>\n",
       "    </tr>\n",
       "    <tr>\n",
       "      <th>Order Price</th>\n",
       "      <td>1395.576700</td>\n",
       "      <td>2773.358259</td>\n",
       "      <td>-111.093861</td>\n",
       "      <td>49.295869</td>\n",
       "      <td>6.064323e+03</td>\n",
       "      <td>1.342655e+03</td>\n",
       "      <td>-0.153679</td>\n",
       "      <td>1.271169e+06</td>\n",
       "      <td>0.126889</td>\n",
       "      <td>-4.438203</td>\n",
       "      <td>-0.082799</td>\n",
       "      <td>-8.302498</td>\n",
       "    </tr>\n",
       "    <tr>\n",
       "      <th>likes_count</th>\n",
       "      <td>431.506919</td>\n",
       "      <td>1001.349457</td>\n",
       "      <td>-13.943698</td>\n",
       "      <td>4.747639</td>\n",
       "      <td>1.342655e+03</td>\n",
       "      <td>2.814856e+05</td>\n",
       "      <td>-6.271844</td>\n",
       "      <td>-1.987370e+07</td>\n",
       "      <td>-2.039432</td>\n",
       "      <td>-33.545249</td>\n",
       "      <td>70.982013</td>\n",
       "      <td>-16.812835</td>\n",
       "    </tr>\n",
       "    <tr>\n",
       "      <th>is_new</th>\n",
       "      <td>-0.027101</td>\n",
       "      <td>0.068941</td>\n",
       "      <td>0.007542</td>\n",
       "      <td>-0.002330</td>\n",
       "      <td>-1.536786e-01</td>\n",
       "      <td>-6.271844e+00</td>\n",
       "      <td>0.031688</td>\n",
       "      <td>9.579886e+03</td>\n",
       "      <td>-0.000894</td>\n",
       "      <td>0.005715</td>\n",
       "      <td>-0.013534</td>\n",
       "      <td>-0.025546</td>\n",
       "    </tr>\n",
       "    <tr>\n",
       "      <th>productId</th>\n",
       "      <td>436608.640035</td>\n",
       "      <td>935709.603431</td>\n",
       "      <td>-127899.108218</td>\n",
       "      <td>-2130.629473</td>\n",
       "      <td>1.271169e+06</td>\n",
       "      <td>-1.987370e+07</td>\n",
       "      <td>9579.886179</td>\n",
       "      <td>4.927479e+10</td>\n",
       "      <td>-946.934150</td>\n",
       "      <td>48466.844262</td>\n",
       "      <td>-24544.176766</td>\n",
       "      <td>7134.319809</td>\n",
       "    </tr>\n",
       "    <tr>\n",
       "      <th>ratings</th>\n",
       "      <td>0.024948</td>\n",
       "      <td>-0.168749</td>\n",
       "      <td>-0.014924</td>\n",
       "      <td>0.000918</td>\n",
       "      <td>1.268892e-01</td>\n",
       "      <td>-2.039432e+00</td>\n",
       "      <td>-0.000894</td>\n",
       "      <td>-9.469342e+02</td>\n",
       "      <td>1.999197</td>\n",
       "      <td>-0.118029</td>\n",
       "      <td>0.033911</td>\n",
       "      <td>-0.098802</td>\n",
       "    </tr>\n",
       "    <tr>\n",
       "      <th>Income</th>\n",
       "      <td>0.675512</td>\n",
       "      <td>1.856403</td>\n",
       "      <td>-0.267824</td>\n",
       "      <td>-0.284613</td>\n",
       "      <td>-4.438203e+00</td>\n",
       "      <td>-3.354525e+01</td>\n",
       "      <td>0.005715</td>\n",
       "      <td>4.846684e+04</td>\n",
       "      <td>-0.118029</td>\n",
       "      <td>613.498649</td>\n",
       "      <td>1.717998</td>\n",
       "      <td>0.390464</td>\n",
       "    </tr>\n",
       "    <tr>\n",
       "      <th>SpendingScore</th>\n",
       "      <td>0.621184</td>\n",
       "      <td>0.062780</td>\n",
       "      <td>1.433045</td>\n",
       "      <td>-0.180261</td>\n",
       "      <td>-8.279938e-02</td>\n",
       "      <td>7.098201e+01</td>\n",
       "      <td>-0.013534</td>\n",
       "      <td>-2.454418e+04</td>\n",
       "      <td>0.033911</td>\n",
       "      <td>1.717998</td>\n",
       "      <td>831.643179</td>\n",
       "      <td>-2.673104</td>\n",
       "    </tr>\n",
       "    <tr>\n",
       "      <th>Age</th>\n",
       "      <td>-1.866618</td>\n",
       "      <td>-4.300452</td>\n",
       "      <td>0.931274</td>\n",
       "      <td>-0.006610</td>\n",
       "      <td>-8.302498e+00</td>\n",
       "      <td>-1.681284e+01</td>\n",
       "      <td>-0.025546</td>\n",
       "      <td>7.134320e+03</td>\n",
       "      <td>-0.098802</td>\n",
       "      <td>0.390464</td>\n",
       "      <td>-2.673104</td>\n",
       "      <td>192.443113</td>\n",
       "    </tr>\n",
       "  </tbody>\n",
       "</table>\n",
       "</div>"
      ],
      "text/plain": [
       "               current_price      raw_price       discount     Quantity  \\\n",
       "current_price     480.995851     957.729322     -37.564925     0.046712   \n",
       "raw_price         957.729322    2616.803648      55.650195     0.027887   \n",
       "discount          -37.564925      55.650195     119.301232     0.082276   \n",
       "Quantity            0.046712       0.027887       0.082276     2.002659   \n",
       "Order Price      1395.576700    2773.358259    -111.093861    49.295869   \n",
       "likes_count       431.506919    1001.349457     -13.943698     4.747639   \n",
       "is_new             -0.027101       0.068941       0.007542    -0.002330   \n",
       "productId      436608.640035  935709.603431 -127899.108218 -2130.629473   \n",
       "ratings             0.024948      -0.168749      -0.014924     0.000918   \n",
       "Income              0.675512       1.856403      -0.267824    -0.284613   \n",
       "SpendingScore       0.621184       0.062780       1.433045    -0.180261   \n",
       "Age                -1.866618      -4.300452       0.931274    -0.006610   \n",
       "\n",
       "                Order Price   likes_count       is_new     productId  \\\n",
       "current_price  1.395577e+03  4.315069e+02    -0.027101  4.366086e+05   \n",
       "raw_price      2.773358e+03  1.001349e+03     0.068941  9.357096e+05   \n",
       "discount      -1.110939e+02 -1.394370e+01     0.007542 -1.278991e+05   \n",
       "Quantity       4.929587e+01  4.747639e+00    -0.002330 -2.130629e+03   \n",
       "Order Price    6.064323e+03  1.342655e+03    -0.153679  1.271169e+06   \n",
       "likes_count    1.342655e+03  2.814856e+05    -6.271844 -1.987370e+07   \n",
       "is_new        -1.536786e-01 -6.271844e+00     0.031688  9.579886e+03   \n",
       "productId      1.271169e+06 -1.987370e+07  9579.886179  4.927479e+10   \n",
       "ratings        1.268892e-01 -2.039432e+00    -0.000894 -9.469342e+02   \n",
       "Income        -4.438203e+00 -3.354525e+01     0.005715  4.846684e+04   \n",
       "SpendingScore -8.279938e-02  7.098201e+01    -0.013534 -2.454418e+04   \n",
       "Age           -8.302498e+00 -1.681284e+01    -0.025546  7.134320e+03   \n",
       "\n",
       "                  ratings       Income   SpendingScore          Age  \n",
       "current_price    0.024948      0.675512       0.621184    -1.866618  \n",
       "raw_price       -0.168749      1.856403       0.062780    -4.300452  \n",
       "discount        -0.014924     -0.267824       1.433045     0.931274  \n",
       "Quantity         0.000918     -0.284613      -0.180261    -0.006610  \n",
       "Order Price      0.126889     -4.438203      -0.082799    -8.302498  \n",
       "likes_count     -2.039432    -33.545249      70.982013   -16.812835  \n",
       "is_new          -0.000894      0.005715      -0.013534    -0.025546  \n",
       "productId     -946.934150  48466.844262  -24544.176766  7134.319809  \n",
       "ratings          1.999197     -0.118029       0.033911    -0.098802  \n",
       "Income          -0.118029    613.498649       1.717998     0.390464  \n",
       "SpendingScore    0.033911      1.717998     831.643179    -2.673104  \n",
       "Age             -0.098802      0.390464      -2.673104   192.443113  "
      ]
     },
     "execution_count": 24,
     "metadata": {},
     "output_type": "execute_result"
    }
   ],
   "source": [
    "covariance=data.cov()\n",
    "covariance"
   ]
  },
  {
   "cell_type": "markdown",
   "id": "50ffc434",
   "metadata": {},
   "source": [
    "### CLASS COUNTS"
   ]
  },
  {
   "cell_type": "code",
   "execution_count": 27,
   "id": "a7d8f620",
   "metadata": {},
   "outputs": [
    {
     "data": {
      "text/plain": [
       "current_price\n",
       "0.06       2\n",
       "0.14       3\n",
       "0.22       1\n",
       "0.26       1\n",
       "0.29       1\n",
       "          ..\n",
       "733.49     1\n",
       "743.99     1\n",
       "799.99     1\n",
       "1157.99    1\n",
       "1899.99    2\n",
       "Length: 6116, dtype: int64"
      ]
     },
     "execution_count": 27,
     "metadata": {},
     "output_type": "execute_result"
    }
   ],
   "source": [
    "class_counts=data.groupby('current_price').size()\n",
    "class_counts"
   ]
  },
  {
   "cell_type": "code",
   "execution_count": 28,
   "id": "6b41e497",
   "metadata": {},
   "outputs": [
    {
     "data": {
      "text/plain": [
       "raw_price\n",
       "0.00       372\n",
       "1.97         1\n",
       "2.06         1\n",
       "3.00         1\n",
       "3.61         1\n",
       "          ... \n",
       "2129.93      1\n",
       "2189.03      1\n",
       "2396.14      1\n",
       "3999.99      2\n",
       "5089.00      1\n",
       "Length: 11576, dtype: int64"
      ]
     },
     "execution_count": 28,
     "metadata": {},
     "output_type": "execute_result"
    }
   ],
   "source": [
    "class_counts=data.groupby('raw_price').size()\n",
    "class_counts"
   ]
  },
  {
   "cell_type": "code",
   "execution_count": 29,
   "id": "d00641ae",
   "metadata": {},
   "outputs": [
    {
     "data": {
      "text/plain": [
       "<AxesSubplot:>"
      ]
     },
     "execution_count": 29,
     "metadata": {},
     "output_type": "execute_result"
    },
    {
     "data": {
      "image/png": "[encoded data removed]",
      "text/plain": [
       "<Figure size 432x288 with 2 Axes>"
      ]
     },
     "metadata": {
      "needs_background": "light"
     },
     "output_type": "display_data"
    }
   ],
   "source": [
    "sns.heatmap(data.corr(), vmin=-10, vmax=10, cmap='YlGnBu', annot=True)"
   ]
  },
  {
   "cell_type": "code",
   "execution_count": 30,
   "id": "85a49f88",
   "metadata": {},
   "outputs": [
    {
     "data": {
      "text/plain": [
       "<pandas.plotting._core.PlotAccessor object at 0x000002BE89CF79A0>"
      ]
     },
     "execution_count": 30,
     "metadata": {},
     "output_type": "execute_result"
    }
   ],
   "source": [
    "data.plot"
   ]
  },
  {
   "cell_type": "code",
   "execution_count": 31,
   "id": "eecfbdc0",
   "metadata": {},
   "outputs": [
    {
     "data": {
      "text/plain": [
       "<AxesSubplot:xlabel='current_price'>"
      ]
     },
     "execution_count": 31,
     "metadata": {},
     "output_type": "execute_result"
    },
    {
     "data": {
      "image/png": "[encoded data removed]",
      "text/plain": [
       "<Figure size 432x288 with 1 Axes>"
      ]
     },
     "metadata": {
      "needs_background": "light"
     },
     "output_type": "display_data"
    }
   ],
   "source": [
    "data.plot(x='current_price',y='raw_price')"
   ]
  },
  {
   "cell_type": "code",
   "execution_count": 32,
   "id": "9319e039",
   "metadata": {},
   "outputs": [
    {
     "data": {
      "text/plain": [
       "<AxesSubplot:xlabel='current_price'>"
      ]
     },
     "execution_count": 32,
     "metadata": {},
     "output_type": "execute_result"
    },
    {
     "data": {
      "image/png": "[encoded data removed]",
      "text/plain": [
       "<Figure size 432x288 with 1 Axes>"
      ]
     },
     "metadata": {
      "needs_background": "light"
     },
     "output_type": "display_data"
    }
   ],
   "source": [
    "data.plot(x='current_price',y='likes_count')"
   ]
  },
  {
   "cell_type": "code",
   "execution_count": 33,
   "id": "442a146e",
   "metadata": {},
   "outputs": [
    {
     "data": {
      "text/plain": [
       "<AxesSubplot:xlabel='discount'>"
      ]
     },
     "execution_count": 33,
     "metadata": {},
     "output_type": "execute_result"
    },
    {
     "data": {
      "image/png": "[encoded data removed]",
      "text/plain": [
       "<Figure size 432x288 with 1 Axes>"
      ]
     },
     "metadata": {
      "needs_background": "light"
     },
     "output_type": "display_data"
    }
   ],
   "source": [
    "data.plot(x='discount',y='current_price')"
   ]
  },
  {
   "cell_type": "code",
   "execution_count": 34,
   "id": "16ccff8e",
   "metadata": {},
   "outputs": [
    {
     "data": {
      "text/plain": [
       "<AxesSubplot:xlabel='is_new'>"
      ]
     },
     "execution_count": 34,
     "metadata": {},
     "output_type": "execute_result"
    },
    {
     "data": {
      "image/png": "[encoded data removed]",
      "text/plain": [
       "<Figure size 432x288 with 1 Axes>"
      ]
     },
     "metadata": {
      "needs_background": "light"
     },
     "output_type": "display_data"
    }
   ],
   "source": [
    "data.plot(x='is_new',y='current_price')"
   ]
  },
  {
   "cell_type": "code",
   "execution_count": 35,
   "id": "733c97b5",
   "metadata": {},
   "outputs": [
    {
     "name": "stderr",
     "output_type": "stream",
     "text": [
      "C:\\Users\\Student\\anaconda3\\lib\\site-packages\\seaborn\\distributions.py:2557: FutureWarning: `distplot` is a deprecated function and will be removed in a future version. Please adapt your code to use either `displot` (a figure-level function with similar flexibility) or `histplot` (an axes-level function for histograms).\n",
      "  warnings.warn(msg, FutureWarning)\n"
     ]
    },
    {
     "data": {
      "text/plain": [
       "Text(0, 0.5, 'Raw Price')"
      ]
     },
     "execution_count": 35,
     "metadata": {},
     "output_type": "execute_result"
    },
    {
     "data": {
      "image/png": "[encoded data removed]",
      "text/plain": [
       "<Figure size 432x288 with 1 Axes>"
      ]
     },
     "metadata": {
      "needs_background": "light"
     },
     "output_type": "display_data"
    }
   ],
   "source": [
    "sns.distplot(data['current_price'], kde=False, color='red', bins=100)\n",
    "plt.title('Price Difference', fontsize=18)\n",
    "plt.xlabel('Current Price', fontsize=16)\n",
    "plt.ylabel('Raw Price', fontsize=16)"
   ]
  },
  {
   "cell_type": "code",
   "execution_count": 36,
   "id": "e46d5803",
   "metadata": {},
   "outputs": [
    {
     "name": "stdout",
     "output_type": "stream",
     "text": [
      "data1: mean=100.776 stdv=19.620\n",
      "data2: mean=151.050 stdv=22.358\n"
     ]
    },
    {
     "data": {
      "image/png": "[encoded data removed]",
      "text/plain": [
       "<Figure size 432x288 with 1 Axes>"
      ]
     },
     "metadata": {
      "needs_background": "light"
     },
     "output_type": "display_data"
    }
   ],
   "source": [
    "seed(1)\n",
    "data1=data['current_price']\n",
    "data2=data['ratings']\n",
    "data1=20*randn(1000)+100\n",
    "data2=data1+(10*randn(1000)+50)\n",
    "print('data1: mean=%.3f stdv=%.3f'%(mean(data1),std(data1)))\n",
    "print('data2: mean=%.3f stdv=%.3f'%(mean(data2),std(data2)))\n",
    "plt.scatter(data1,data2)\n",
    "plt.show()"
   ]
  },
  {
   "cell_type": "markdown",
   "id": "162eb552",
   "metadata": {},
   "source": [
    "### SKEWNESS\n",
    "\n"
   ]
  },
  {
   "cell_type": "code",
   "execution_count": 37,
   "id": "54943a42",
   "metadata": {},
   "outputs": [
    {
     "name": "stdout",
     "output_type": "stream",
     "text": [
      "Skewness: 23.004236\n",
      "Skewness: 32.483431\n",
      "Skewness: 0.003690\n"
     ]
    }
   ],
   "source": [
    "print(\"Skewness: %f\" % data['current_price'].skew())\n",
    "print(\"Skewness: %f\" % data['raw_price'].skew())\n",
    "print(\"Skewness: %f\" % data['ratings'].skew())\n",
    "#print(\"Skewness: %f\" % data['Income'].skew())\n",
    "\n",
    "\n"
   ]
  },
  {
   "cell_type": "code",
   "execution_count": 38,
   "id": "c0a25653",
   "metadata": {},
   "outputs": [
    {
     "data": {
      "text/plain": [
       "current_price    23.004236\n",
       "raw_price        32.483431\n",
       "discount         -0.256922\n",
       "Quantity         -0.005023\n",
       "Order Price      13.037912\n",
       "likes_count      11.868979\n",
       "is_new            5.249723\n",
       "productId        -0.686683\n",
       "ratings           0.003690\n",
       "Income           -0.005411\n",
       "SpendingScore    -0.001840\n",
       "Age              -0.003513\n",
       "dtype: float64"
      ]
     },
     "execution_count": 38,
     "metadata": {},
     "output_type": "execute_result"
    }
   ],
   "source": [
    "skew=data.skew()\n",
    "skew"
   ]
  },
  {
   "cell_type": "markdown",
   "id": "d5fb9a8f",
   "metadata": {},
   "source": [
    "# ALGORITHMS"
   ]
  },
  {
   "cell_type": "markdown",
   "id": "cc8ecf17",
   "metadata": {},
   "source": [
    "## RECOMMEDNATION SYSTEM"
   ]
  },
  {
   "cell_type": "markdown",
   "id": "4f38230e",
   "metadata": {},
   "source": [
    "### CONTENT BASED FILTERING"
   ]
  },
  {
   "cell_type": "code",
   "execution_count": 39,
   "id": "a4b1ed80",
   "metadata": {},
   "outputs": [],
   "source": [
    "#v is the number of likes for the product ;\n",
    "#m is the minimum likes required to be listed in the dataset;\n",
    "#R is the average rating of the product;\n",
    "#C is the mean rating across the whole data."
   ]
  },
  {
   "cell_type": "code",
   "execution_count": 48,
   "id": "11062c1c",
   "metadata": {},
   "outputs": [
    {
     "data": {
      "text/plain": [
       "(7527, 15)"
      ]
     },
     "execution_count": 48,
     "metadata": {},
     "output_type": "execute_result"
    }
   ],
   "source": [
    "m = data['likes_count'].quantile(0.90)\n",
    "data1 = data.copy().loc[data['likes_count'] >= m]\n",
    "data1.shape"
   ]
  },
  {
   "cell_type": "code",
   "execution_count": 49,
   "id": "23ddd18d",
   "metadata": {},
   "outputs": [
    {
     "data": {
      "text/plain": [
       "2.995959946132615"
      ]
     },
     "execution_count": 49,
     "metadata": {},
     "output_type": "execute_result"
    }
   ],
   "source": [
    "C = data['ratings'].mean()\n",
    "C"
   ]
  },
  {
   "cell_type": "code",
   "execution_count": 50,
   "id": "b3d93b0c",
   "metadata": {},
   "outputs": [],
   "source": [
    "def weighted_rating(x, m=m, C=C):\n",
    "    l = x['likes_count']\n",
    "    R = x['ratings']\n",
    "    return (v/(v+m) * R) + (m/(m+v) * C)"
   ]
  },
  {
   "cell_type": "code",
   "execution_count": 51,
   "id": "92783d1c",
   "metadata": {},
   "outputs": [],
   "source": [
    "v=1048"
   ]
  },
  {
   "cell_type": "code",
   "execution_count": 52,
   "id": "a8b4875b",
   "metadata": {},
   "outputs": [
    {
     "data": {
      "text/html": [
       "<div>\n",
       "<style scoped>\n",
       "    .dataframe tbody tr th:only-of-type {\n",
       "        vertical-align: middle;\n",
       "    }\n",
       "\n",
       "    .dataframe tbody tr th {\n",
       "        vertical-align: top;\n",
       "    }\n",
       "\n",
       "    .dataframe thead th {\n",
       "        text-align: right;\n",
       "    }\n",
       "</style>\n",
       "<table border=\"1\" class=\"dataframe\">\n",
       "  <thead>\n",
       "    <tr style=\"text-align: right;\">\n",
       "      <th></th>\n",
       "      <th>category</th>\n",
       "      <th>current_price</th>\n",
       "      <th>raw_price</th>\n",
       "      <th>discount</th>\n",
       "      <th>Quantity</th>\n",
       "      <th>Order Price</th>\n",
       "      <th>likes_count</th>\n",
       "      <th>is_new</th>\n",
       "      <th>productId</th>\n",
       "      <th>userId</th>\n",
       "      <th>ratings</th>\n",
       "      <th>Income</th>\n",
       "      <th>SpendingScore</th>\n",
       "      <th>Gender</th>\n",
       "      <th>Age</th>\n",
       "      <th>score</th>\n",
       "    </tr>\n",
       "  </thead>\n",
       "  <tbody>\n",
       "    <tr>\n",
       "      <th>51053</th>\n",
       "      <td>shoes</td>\n",
       "      <td>27.84</td>\n",
       "      <td>62.76</td>\n",
       "      <td>56</td>\n",
       "      <td>1</td>\n",
       "      <td>27.84</td>\n",
       "      <td>600</td>\n",
       "      <td>False</td>\n",
       "      <td>1440444</td>\n",
       "      <td>A1VQHH85U7PX0</td>\n",
       "      <td>5</td>\n",
       "      <td>69</td>\n",
       "      <td>9</td>\n",
       "      <td>F</td>\n",
       "      <td>60</td>\n",
       "      <td>4.448404</td>\n",
       "    </tr>\n",
       "    <tr>\n",
       "      <th>64769</th>\n",
       "      <td>jewelry</td>\n",
       "      <td>5.59</td>\n",
       "      <td>15.90</td>\n",
       "      <td>65</td>\n",
       "      <td>1</td>\n",
       "      <td>5.59</td>\n",
       "      <td>621</td>\n",
       "      <td>False</td>\n",
       "      <td>1159885</td>\n",
       "      <td>A10FAJMY3OUVGH</td>\n",
       "      <td>5</td>\n",
       "      <td>94</td>\n",
       "      <td>94</td>\n",
       "      <td>M</td>\n",
       "      <td>60</td>\n",
       "      <td>4.448404</td>\n",
       "    </tr>\n",
       "    <tr>\n",
       "      <th>12027</th>\n",
       "      <td>bags</td>\n",
       "      <td>34.32</td>\n",
       "      <td>73.12</td>\n",
       "      <td>53</td>\n",
       "      <td>1</td>\n",
       "      <td>34.32</td>\n",
       "      <td>403</td>\n",
       "      <td>False</td>\n",
       "      <td>1283511</td>\n",
       "      <td>A1R1A3P87BIWWB</td>\n",
       "      <td>5</td>\n",
       "      <td>38</td>\n",
       "      <td>9</td>\n",
       "      <td>M</td>\n",
       "      <td>55</td>\n",
       "      <td>4.448404</td>\n",
       "    </tr>\n",
       "    <tr>\n",
       "      <th>23400</th>\n",
       "      <td>women</td>\n",
       "      <td>27.99</td>\n",
       "      <td>54.87</td>\n",
       "      <td>49</td>\n",
       "      <td>5</td>\n",
       "      <td>139.95</td>\n",
       "      <td>885</td>\n",
       "      <td>False</td>\n",
       "      <td>1377243</td>\n",
       "      <td>A6XDEW1U9M2SE</td>\n",
       "      <td>5</td>\n",
       "      <td>97</td>\n",
       "      <td>88</td>\n",
       "      <td>M</td>\n",
       "      <td>59</td>\n",
       "      <td>4.448404</td>\n",
       "    </tr>\n",
       "    <tr>\n",
       "      <th>53237</th>\n",
       "      <td>shoes</td>\n",
       "      <td>31.07</td>\n",
       "      <td>87.96</td>\n",
       "      <td>65</td>\n",
       "      <td>1</td>\n",
       "      <td>31.07</td>\n",
       "      <td>478</td>\n",
       "      <td>False</td>\n",
       "      <td>1164856</td>\n",
       "      <td>A2ARD9MFNHR79X</td>\n",
       "      <td>5</td>\n",
       "      <td>96</td>\n",
       "      <td>43</td>\n",
       "      <td>F</td>\n",
       "      <td>26</td>\n",
       "      <td>4.448404</td>\n",
       "    </tr>\n",
       "    <tr>\n",
       "      <th>38355</th>\n",
       "      <td>women</td>\n",
       "      <td>39.87</td>\n",
       "      <td>99.94</td>\n",
       "      <td>60</td>\n",
       "      <td>2</td>\n",
       "      <td>79.74</td>\n",
       "      <td>1075</td>\n",
       "      <td>False</td>\n",
       "      <td>1219102</td>\n",
       "      <td>A3TE1A0XJWOHZD</td>\n",
       "      <td>5</td>\n",
       "      <td>88</td>\n",
       "      <td>86</td>\n",
       "      <td>F</td>\n",
       "      <td>39</td>\n",
       "      <td>4.448404</td>\n",
       "    </tr>\n",
       "    <tr>\n",
       "      <th>53253</th>\n",
       "      <td>women</td>\n",
       "      <td>12.99</td>\n",
       "      <td>53.34</td>\n",
       "      <td>76</td>\n",
       "      <td>3</td>\n",
       "      <td>38.97</td>\n",
       "      <td>713</td>\n",
       "      <td>False</td>\n",
       "      <td>1123489</td>\n",
       "      <td>AH9FCFS4PCUVE</td>\n",
       "      <td>5</td>\n",
       "      <td>96</td>\n",
       "      <td>18</td>\n",
       "      <td>M</td>\n",
       "      <td>43</td>\n",
       "      <td>4.448404</td>\n",
       "    </tr>\n",
       "    <tr>\n",
       "      <th>37216</th>\n",
       "      <td>women</td>\n",
       "      <td>10.12</td>\n",
       "      <td>22.99</td>\n",
       "      <td>56</td>\n",
       "      <td>4</td>\n",
       "      <td>40.48</td>\n",
       "      <td>1193</td>\n",
       "      <td>False</td>\n",
       "      <td>1026755</td>\n",
       "      <td>A1QAYXPP08I7KS</td>\n",
       "      <td>5</td>\n",
       "      <td>55</td>\n",
       "      <td>33</td>\n",
       "      <td>M</td>\n",
       "      <td>26</td>\n",
       "      <td>4.448404</td>\n",
       "    </tr>\n",
       "    <tr>\n",
       "      <th>31066</th>\n",
       "      <td>women</td>\n",
       "      <td>32.99</td>\n",
       "      <td>71.15</td>\n",
       "      <td>54</td>\n",
       "      <td>1</td>\n",
       "      <td>32.99</td>\n",
       "      <td>1243</td>\n",
       "      <td>False</td>\n",
       "      <td>1259656</td>\n",
       "      <td>AOJBKPV6ELTE9</td>\n",
       "      <td>5</td>\n",
       "      <td>94</td>\n",
       "      <td>99</td>\n",
       "      <td>M</td>\n",
       "      <td>37</td>\n",
       "      <td>4.448404</td>\n",
       "    </tr>\n",
       "    <tr>\n",
       "      <th>11969</th>\n",
       "      <td>men</td>\n",
       "      <td>35.19</td>\n",
       "      <td>51.99</td>\n",
       "      <td>32</td>\n",
       "      <td>5</td>\n",
       "      <td>175.95</td>\n",
       "      <td>1022</td>\n",
       "      <td>False</td>\n",
       "      <td>1588230</td>\n",
       "      <td>AJQS6UG45VZPK</td>\n",
       "      <td>5</td>\n",
       "      <td>67</td>\n",
       "      <td>70</td>\n",
       "      <td>F</td>\n",
       "      <td>44</td>\n",
       "      <td>4.448404</td>\n",
       "    </tr>\n",
       "  </tbody>\n",
       "</table>\n",
       "</div>"
      ],
      "text/plain": [
       "      category  current_price  raw_price  discount  Quantity  Order Price  \\\n",
       "51053    shoes          27.84      62.76        56         1        27.84   \n",
       "64769  jewelry           5.59      15.90        65         1         5.59   \n",
       "12027     bags          34.32      73.12        53         1        34.32   \n",
       "23400    women          27.99      54.87        49         5       139.95   \n",
       "53237    shoes          31.07      87.96        65         1        31.07   \n",
       "38355    women          39.87      99.94        60         2        79.74   \n",
       "53253    women          12.99      53.34        76         3        38.97   \n",
       "37216    women          10.12      22.99        56         4        40.48   \n",
       "31066    women          32.99      71.15        54         1        32.99   \n",
       "11969      men          35.19      51.99        32         5       175.95   \n",
       "\n",
       "       likes_count  is_new  productId          userId  ratings  Income   \\\n",
       "51053          600   False    1440444   A1VQHH85U7PX0        5       69   \n",
       "64769          621   False    1159885  A10FAJMY3OUVGH        5       94   \n",
       "12027          403   False    1283511  A1R1A3P87BIWWB        5       38   \n",
       "23400          885   False    1377243   A6XDEW1U9M2SE        5       97   \n",
       "53237          478   False    1164856  A2ARD9MFNHR79X        5       96   \n",
       "38355         1075   False    1219102  A3TE1A0XJWOHZD        5       88   \n",
       "53253          713   False    1123489   AH9FCFS4PCUVE        5       96   \n",
       "37216         1193   False    1026755  A1QAYXPP08I7KS        5       55   \n",
       "31066         1243   False    1259656   AOJBKPV6ELTE9        5       94   \n",
       "11969         1022   False    1588230   AJQS6UG45VZPK        5       67   \n",
       "\n",
       "       SpendingScore Gender  Age     score  \n",
       "51053              9      F   60  4.448404  \n",
       "64769             94      M   60  4.448404  \n",
       "12027              9      M   55  4.448404  \n",
       "23400             88      M   59  4.448404  \n",
       "53237             43      F   26  4.448404  \n",
       "38355             86      F   39  4.448404  \n",
       "53253             18      M   43  4.448404  \n",
       "37216             33      M   26  4.448404  \n",
       "31066             99      M   37  4.448404  \n",
       "11969             70      F   44  4.448404  "
      ]
     },
     "execution_count": 52,
     "metadata": {},
     "output_type": "execute_result"
    }
   ],
   "source": [
    "data1['score'] = data1.apply(weighted_rating, axis=1)\n",
    "data1 = data1.sort_values('score', ascending=False)\n",
    "data1[['likes_count', 'ratings', 'score']].head(20)\n",
    "data1['category'].unique()\n",
    "data1.head(10)"
   ]
  },
  {
   "cell_type": "code",
   "execution_count": 45,
   "id": "aa4f04dc",
   "metadata": {},
   "outputs": [
    {
     "data": {
      "text/plain": [
       "(74999, 15)"
      ]
     },
     "execution_count": 45,
     "metadata": {},
     "output_type": "execute_result"
    }
   ],
   "source": [
    "data.shape"
   ]
  },
  {
   "cell_type": "code",
   "execution_count": 46,
   "id": "e397fd5e",
   "metadata": {},
   "outputs": [
    {
     "data": {
      "text/plain": [
       "(7527, 16)"
      ]
     },
     "execution_count": 46,
     "metadata": {},
     "output_type": "execute_result"
    }
   ],
   "source": [
    "data1.shape"
   ]
  },
  {
   "cell_type": "markdown",
   "id": "f28782c9",
   "metadata": {},
   "source": [
    "### (7527/74999)*100 =  10% \n",
    "### data 1 contains top 10% of all the products and are highly recommendeded to the customers."
   ]
  },
  {
   "cell_type": "code",
   "execution_count": null,
   "id": "464c6a4c",
   "metadata": {},
   "outputs": [],
   "source": []
  },
  {
   "cell_type": "code",
   "execution_count": null,
   "id": "3e14edcd",
   "metadata": {},
   "outputs": [],
   "source": []
  }
 ],
 "metadata": {
  "kernelspec": {
   "display_name": "Python 3",
   "language": "python",
   "name": "python3"
  },
  "language_info": {
   "codemirror_mode": {
    "name": "ipython",
    "version": 3
   },
   "file_extension": ".py",
   "mimetype": "text/x-python",
   "name": "python",
   "nbconvert_exporter": "python",
   "pygments_lexer": "ipython3",
   "version": "3.8.8"
  }
 },
 "nbformat": 4,
 "nbformat_minor": 5
}
